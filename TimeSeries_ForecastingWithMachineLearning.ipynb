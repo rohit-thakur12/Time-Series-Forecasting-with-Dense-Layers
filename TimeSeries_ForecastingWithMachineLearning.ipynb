{
  "nbformat": 4,
  "nbformat_minor": 0,
  "metadata": {
    "colab": {
      "name": "TimeSeries-ForecastingWithMachineLearning.ipynb",
      "provenance": []
    },
    "kernelspec": {
      "name": "python3",
      "display_name": "Python 3"
    },
    "accelerator": "GPU"
  },
  "cells": [
    {
      "cell_type": "code",
      "metadata": {
        "id": "czln1spb2sB0",
        "colab_type": "code",
        "colab": {
          "base_uri": "https://localhost:8080/",
          "height": 34
        },
        "outputId": "53f74dc6-3164-4d34-d896-d3c0f741dc28"
      },
      "source": [
        "try:\n",
        "  %tensorflow_version 2.x\n",
        "except Exception:\n",
        "  pass"
      ],
      "execution_count": 1,
      "outputs": [
        {
          "output_type": "stream",
          "text": [
            "TensorFlow 2.x selected.\n"
          ],
          "name": "stdout"
        }
      ]
    },
    {
      "cell_type": "code",
      "metadata": {
        "id": "ndAxoQRq2_NT",
        "colab_type": "code",
        "colab": {
          "base_uri": "https://localhost:8080/",
          "height": 34
        },
        "outputId": "02f7b557-74c3-475a-c8a4-35748b3f42c8"
      },
      "source": [
        "import tensorflow as tf\n",
        "tf.__version__"
      ],
      "execution_count": 2,
      "outputs": [
        {
          "output_type": "execute_result",
          "data": {
            "text/plain": [
              "'2.1.0'"
            ]
          },
          "metadata": {
            "tags": []
          },
          "execution_count": 2
        }
      ]
    },
    {
      "cell_type": "code",
      "metadata": {
        "id": "JOnEqr9U3C6Q",
        "colab_type": "code",
        "colab": {
          "base_uri": "https://localhost:8080/",
          "height": 306
        },
        "outputId": "07e88752-ed25-4559-a5a5-eee20182eec8"
      },
      "source": [
        "!nvidia-smi"
      ],
      "execution_count": 3,
      "outputs": [
        {
          "output_type": "stream",
          "text": [
            "Sun Feb 23 07:04:26 2020       \n",
            "+-----------------------------------------------------------------------------+\n",
            "| NVIDIA-SMI 440.48.02    Driver Version: 418.67       CUDA Version: 10.1     |\n",
            "|-------------------------------+----------------------+----------------------+\n",
            "| GPU  Name        Persistence-M| Bus-Id        Disp.A | Volatile Uncorr. ECC |\n",
            "| Fan  Temp  Perf  Pwr:Usage/Cap|         Memory-Usage | GPU-Util  Compute M. |\n",
            "|===============================+======================+======================|\n",
            "|   0  Tesla P100-PCIE...  Off  | 00000000:00:04.0 Off |                    0 |\n",
            "| N/A   42C    P0    27W / 250W |      0MiB / 16280MiB |      0%      Default |\n",
            "+-------------------------------+----------------------+----------------------+\n",
            "                                                                               \n",
            "+-----------------------------------------------------------------------------+\n",
            "| Processes:                                                       GPU Memory |\n",
            "|  GPU       PID   Type   Process name                             Usage      |\n",
            "|=============================================================================|\n",
            "|  No running processes found                                                 |\n",
            "+-----------------------------------------------------------------------------+\n"
          ],
          "name": "stdout"
        }
      ]
    },
    {
      "cell_type": "code",
      "metadata": {
        "id": "MlsixxOv3IIx",
        "colab_type": "code",
        "colab": {}
      },
      "source": [
        "import numpy as np\n",
        "import matplotlib.pyplot as plt\n",
        "\n",
        "%matplotlib inline\n",
        "keras = tf.keras"
      ],
      "execution_count": 0,
      "outputs": []
    },
    {
      "cell_type": "code",
      "metadata": {
        "id": "JN35x_vV3cTz",
        "colab_type": "code",
        "colab": {}
      },
      "source": [
        "def plot_series(time, series, format=\"-\", start=0, end=None, label=None):\n",
        "    plt.plot(time[start:end], series[start:end], format, label=label)\n",
        "    plt.xlabel(\"Time\")\n",
        "    plt.ylabel(\"Value\")\n",
        "    if label:\n",
        "        plt.legend(fontsize=14)\n",
        "    plt.grid(True)\n",
        "    \n",
        "def trend(time, slope=0):\n",
        "    return slope * time\n",
        "  \n",
        "  \n",
        "def seasonal_pattern(season_time):\n",
        "    \"\"\"Just an arbitrary pattern, you can change it if you wish\"\"\"\n",
        "    return np.where(season_time < 0.4,\n",
        "                    np.cos(season_time * 2 * np.pi),\n",
        "                    1 / np.exp(3 * season_time))\n",
        "\n",
        "  \n",
        "def seasonality(time, period, amplitude=1, phase=0):\n",
        "    \"\"\"Repeats the same pattern at each period\"\"\"\n",
        "    season_time = ((time + phase) % period) / period\n",
        "    return amplitude * seasonal_pattern(season_time)\n",
        "  \n",
        "  \n",
        "def white_noise(time, noise_level=1, seed=None):\n",
        "    rnd = np.random.RandomState(seed)\n",
        "    return rnd.randn(len(time)) * noise_level"
      ],
      "execution_count": 0,
      "outputs": []
    },
    {
      "cell_type": "code",
      "metadata": {
        "id": "UGHNm1MK3hsn",
        "colab_type": "code",
        "colab": {
          "base_uri": "https://localhost:8080/",
          "height": 388
        },
        "outputId": "b0b0f355-eb94-4ea3-aec7-bd25f82062b4"
      },
      "source": [
        "time = np.arange(4 * 365 + 1)\n",
        "\n",
        "slope = 0.05\n",
        "baseline = 10\n",
        "amplitude = 40\n",
        "series = baseline + trend(time, slope) + seasonality(time, period=365, amplitude=amplitude)\n",
        "\n",
        "noise_level = 5\n",
        "noise = white_noise(time, noise_level, seed=42)\n",
        "\n",
        "series += noise\n",
        "\n",
        "plt.figure(figsize=(10, 6))\n",
        "plot_series(time, series)\n",
        "plt.show()"
      ],
      "execution_count": 6,
      "outputs": [
        {
          "output_type": "display_data",
          "data": {
            "image/png": "[encoded data removed]",
            "text/plain": [
              "<Figure size 720x432 with 1 Axes>"
            ]
          },
          "metadata": {
            "tags": []
          }
        }
      ]
    },
    {
      "cell_type": "code",
      "metadata": {
        "id": "TL0oPjFv3mXc",
        "colab_type": "code",
        "colab": {}
      },
      "source": [
        "# Now that we have our random data, lets start with machine learning.\n",
        "\n",
        "def window_dataset(series, window_size, batch_size=32,\n",
        "                   shuffle_buffer=1000):\n",
        "    dataset = tf.data.Dataset.from_tensor_slices(series)\n",
        "    dataset = dataset.window(window_size + 1, shift=1, drop_remainder=True)\n",
        "    dataset = dataset.flat_map(lambda window: window.batch(window_size + 1))\n",
        "    dataset = dataset.shuffle(shuffle_buffer)\n",
        "    dataset = dataset.map(lambda window: (window[:-1], window[-1]))\n",
        "    dataset = dataset.batch(batch_size).prefetch(1)\n",
        "    return dataset\n",
        "\n",
        "split_time = 1000\n",
        "time_train = time[:split_time]\n",
        "x_train = series[:split_time]\n",
        "time_valid = time[split_time:]\n",
        "x_valid = series[split_time:]"
      ],
      "execution_count": 0,
      "outputs": []
    },
    {
      "cell_type": "code",
      "metadata": {
        "id": "3w4Ww59K34Ob",
        "colab_type": "code",
        "colab": {
          "base_uri": "https://localhost:8080/",
          "height": 187
        },
        "outputId": "bcfee6ad-95a0-443f-b073-83d06000631d"
      },
      "source": [
        "# Modelling\n",
        "\n",
        "keras.backend.clear_session()\n",
        "tf.random.set_seed(42)\n",
        "np.random.seed(42)\n",
        "\n",
        "window_size = 30\n",
        "train_set = window_dataset(x_train,window_size)\n",
        "valid_Set = window_dataset(x_valid,window_size)\n",
        "\n",
        "model = keras.Sequential([\n",
        "        keras.layers.Dense(1,input_shape=[window_size])\n",
        "])\n",
        "# Huber is like mean squared error but it also managers large values which mean absolute error cant.\n",
        "optimizer = keras.optimizers.SGD(learning_rate=1e-5,momentum=0.9)\n",
        "model.compile(loss=keras.losses.Huber(),optimizer=optimizer,metrics=['mae'])\n",
        "model.summary()"
      ],
      "execution_count": 8,
      "outputs": [
        {
          "output_type": "stream",
          "text": [
            "Model: \"sequential\"\n",
            "_________________________________________________________________\n",
            "Layer (type)                 Output Shape              Param #   \n",
            "=================================================================\n",
            "dense (Dense)                (None, 1)                 31        \n",
            "=================================================================\n",
            "Total params: 31\n",
            "Trainable params: 31\n",
            "Non-trainable params: 0\n",
            "_________________________________________________________________\n"
          ],
          "name": "stdout"
        }
      ]
    },
    {
      "cell_type": "code",
      "metadata": {
        "id": "dJLErld55Q6t",
        "colab_type": "code",
        "colab": {
          "base_uri": "https://localhost:8080/",
          "height": 1000
        },
        "outputId": "f4f75a7b-e4ba-4d24-a81d-8c51a0a68959"
      },
      "source": [
        "model.fit(train_set,epochs=100,validation_data=valid_Set,verbose=True)"
      ],
      "execution_count": 9,
      "outputs": [
        {
          "output_type": "stream",
          "text": [
            "Epoch 1/100\n",
            "31/31 [==============================] - 3s 82ms/step - loss: 46.6127 - mae: 47.9542 - val_loss: 22.8934 - val_mae: 23.3670\n",
            "Epoch 2/100\n",
            "31/31 [==============================] - 0s 14ms/step - loss: 11.5051 - mae: 11.9459 - val_loss: 9.2357 - val_mae: 9.6871\n",
            "Epoch 3/100\n",
            "31/31 [==============================] - 0s 13ms/step - loss: 9.8460 - mae: 10.3806 - val_loss: 9.1530 - val_mae: 9.6008\n",
            "Epoch 4/100\n",
            "31/31 [==============================] - 0s 13ms/step - loss: 9.7397 - mae: 10.2880 - val_loss: 9.2402 - val_mae: 9.5627\n",
            "Epoch 5/100\n",
            "31/31 [==============================] - 0s 12ms/step - loss: 9.6098 - mae: 10.1772 - val_loss: 8.8791 - val_mae: 9.4029\n",
            "Epoch 6/100\n",
            "31/31 [==============================] - 0s 15ms/step - loss: 9.5544 - mae: 10.0866 - val_loss: 8.9816 - val_mae: 9.3764\n",
            "Epoch 7/100\n",
            "31/31 [==============================] - 0s 14ms/step - loss: 9.5411 - mae: 9.9598 - val_loss: 9.1477 - val_mae: 9.6448\n",
            "Epoch 8/100\n",
            "31/31 [==============================] - 0s 14ms/step - loss: 9.4851 - mae: 9.9422 - val_loss: 8.7311 - val_mae: 9.1497\n",
            "Epoch 9/100\n",
            "31/31 [==============================] - 0s 12ms/step - loss: 9.2665 - mae: 9.8119 - val_loss: 8.8546 - val_mae: 9.3354\n",
            "Epoch 10/100\n",
            "31/31 [==============================] - 0s 14ms/step - loss: 9.1176 - mae: 9.6605 - val_loss: 8.5426 - val_mae: 9.0899\n",
            "Epoch 11/100\n",
            "31/31 [==============================] - 0s 14ms/step - loss: 9.1549 - mae: 9.5409 - val_loss: 8.9611 - val_mae: 9.6144\n",
            "Epoch 12/100\n",
            "31/31 [==============================] - 0s 12ms/step - loss: 8.9512 - mae: 9.4910 - val_loss: 8.3247 - val_mae: 8.7871\n",
            "Epoch 13/100\n",
            "31/31 [==============================] - 0s 11ms/step - loss: 8.8332 - mae: 9.3872 - val_loss: 8.1997 - val_mae: 8.7302\n",
            "Epoch 14/100\n",
            "31/31 [==============================] - 0s 13ms/step - loss: 8.7356 - mae: 9.2432 - val_loss: 8.1176 - val_mae: 8.6369\n",
            "Epoch 15/100\n",
            "31/31 [==============================] - 0s 15ms/step - loss: 8.7119 - mae: 9.1426 - val_loss: 8.1161 - val_mae: 8.6082\n",
            "Epoch 16/100\n",
            "31/31 [==============================] - 0s 13ms/step - loss: 8.6283 - mae: 9.0912 - val_loss: 8.0115 - val_mae: 8.4647\n",
            "Epoch 17/100\n",
            "31/31 [==============================] - 0s 13ms/step - loss: 8.5352 - mae: 9.0146 - val_loss: 7.9018 - val_mae: 8.3889\n",
            "Epoch 18/100\n",
            "31/31 [==============================] - 0s 11ms/step - loss: 8.4385 - mae: 8.8838 - val_loss: 7.8439 - val_mae: 8.3067\n",
            "Epoch 19/100\n",
            "31/31 [==============================] - 0s 12ms/step - loss: 8.3318 - mae: 8.7835 - val_loss: 7.6570 - val_mae: 8.2369\n",
            "Epoch 20/100\n",
            "31/31 [==============================] - 0s 11ms/step - loss: 8.5737 - mae: 8.7729 - val_loss: 7.8061 - val_mae: 8.3250\n",
            "Epoch 21/100\n",
            "31/31 [==============================] - 0s 11ms/step - loss: 8.1467 - mae: 8.6799 - val_loss: 7.8912 - val_mae: 8.3775\n",
            "Epoch 22/100\n",
            "31/31 [==============================] - 0s 13ms/step - loss: 7.9580 - mae: 8.5173 - val_loss: 7.7146 - val_mae: 8.0249\n",
            "Epoch 23/100\n",
            "31/31 [==============================] - 0s 12ms/step - loss: 8.0981 - mae: 8.5123 - val_loss: 7.4875 - val_mae: 8.0241\n",
            "Epoch 24/100\n",
            "31/31 [==============================] - 0s 11ms/step - loss: 7.8785 - mae: 8.3764 - val_loss: 7.5182 - val_mae: 7.9389\n",
            "Epoch 25/100\n",
            "31/31 [==============================] - 0s 12ms/step - loss: 7.7999 - mae: 8.3485 - val_loss: 7.4287 - val_mae: 7.8362\n",
            "Epoch 26/100\n",
            "31/31 [==============================] - 0s 12ms/step - loss: 7.7945 - mae: 8.2245 - val_loss: 7.5423 - val_mae: 7.9082\n",
            "Epoch 27/100\n",
            "31/31 [==============================] - 0s 14ms/step - loss: 7.6860 - mae: 8.1787 - val_loss: 7.4901 - val_mae: 7.7869\n",
            "Epoch 28/100\n",
            "31/31 [==============================] - 0s 14ms/step - loss: 7.4584 - mae: 8.0543 - val_loss: 7.4811 - val_mae: 7.8965\n",
            "Epoch 29/100\n",
            "31/31 [==============================] - 0s 13ms/step - loss: 7.4329 - mae: 7.9952 - val_loss: 7.3368 - val_mae: 7.6857\n",
            "Epoch 30/100\n",
            "31/31 [==============================] - 0s 12ms/step - loss: 7.4352 - mae: 7.9338 - val_loss: 7.1814 - val_mae: 7.6461\n",
            "Epoch 31/100\n",
            "31/31 [==============================] - 0s 11ms/step - loss: 7.3034 - mae: 7.8347 - val_loss: 7.3299 - val_mae: 7.8802\n",
            "Epoch 32/100\n",
            "31/31 [==============================] - 0s 11ms/step - loss: 7.3150 - mae: 7.8155 - val_loss: 7.0163 - val_mae: 7.4639\n",
            "Epoch 33/100\n",
            "31/31 [==============================] - 0s 13ms/step - loss: 7.2097 - mae: 7.6849 - val_loss: 7.1127 - val_mae: 7.4108\n",
            "Epoch 34/100\n",
            "31/31 [==============================] - 0s 14ms/step - loss: 7.1468 - mae: 7.6849 - val_loss: 6.7834 - val_mae: 7.3680\n",
            "Epoch 35/100\n",
            "31/31 [==============================] - 1s 16ms/step - loss: 7.1133 - mae: 7.5731 - val_loss: 7.0126 - val_mae: 7.5711\n",
            "Epoch 36/100\n",
            "31/31 [==============================] - 0s 12ms/step - loss: 7.1183 - mae: 7.5424 - val_loss: 6.6977 - val_mae: 7.2341\n",
            "Epoch 37/100\n",
            "31/31 [==============================] - 0s 12ms/step - loss: 6.9736 - mae: 7.4698 - val_loss: 6.7660 - val_mae: 7.2993\n",
            "Epoch 38/100\n",
            "31/31 [==============================] - 0s 15ms/step - loss: 6.9065 - mae: 7.3897 - val_loss: 6.6870 - val_mae: 7.1210\n",
            "Epoch 39/100\n",
            "31/31 [==============================] - 0s 13ms/step - loss: 6.8967 - mae: 7.3467 - val_loss: 6.7620 - val_mae: 7.2326\n",
            "Epoch 40/100\n",
            "31/31 [==============================] - 0s 11ms/step - loss: 6.6941 - mae: 7.2490 - val_loss: 6.9749 - val_mae: 7.5261\n",
            "Epoch 41/100\n",
            "31/31 [==============================] - 0s 13ms/step - loss: 6.6664 - mae: 7.2129 - val_loss: 6.5955 - val_mae: 7.0717\n",
            "Epoch 42/100\n",
            "31/31 [==============================] - 0s 14ms/step - loss: 6.6713 - mae: 7.1823 - val_loss: 6.6620 - val_mae: 7.0698\n",
            "Epoch 43/100\n",
            "31/31 [==============================] - 0s 14ms/step - loss: 6.6650 - mae: 7.1058 - val_loss: 6.5818 - val_mae: 6.8937\n",
            "Epoch 44/100\n",
            "31/31 [==============================] - 0s 13ms/step - loss: 6.4863 - mae: 7.0235 - val_loss: 6.5852 - val_mae: 7.0380\n",
            "Epoch 45/100\n",
            "31/31 [==============================] - 0s 14ms/step - loss: 6.5071 - mae: 7.0489 - val_loss: 6.4003 - val_mae: 6.9471\n",
            "Epoch 46/100\n",
            "31/31 [==============================] - 0s 13ms/step - loss: 6.4239 - mae: 6.9418 - val_loss: 6.3794 - val_mae: 6.8998\n",
            "Epoch 47/100\n",
            "31/31 [==============================] - 0s 12ms/step - loss: 6.5909 - mae: 6.9357 - val_loss: 6.3643 - val_mae: 6.8160\n",
            "Epoch 48/100\n",
            "31/31 [==============================] - 0s 12ms/step - loss: 6.3445 - mae: 6.9042 - val_loss: 6.3557 - val_mae: 6.8818\n",
            "Epoch 49/100\n",
            "31/31 [==============================] - 0s 14ms/step - loss: 6.3944 - mae: 6.7920 - val_loss: 6.1951 - val_mae: 6.7120\n",
            "Epoch 50/100\n",
            "31/31 [==============================] - 0s 14ms/step - loss: 6.2657 - mae: 6.7451 - val_loss: 6.5079 - val_mae: 6.9985\n",
            "Epoch 51/100\n",
            "31/31 [==============================] - 0s 13ms/step - loss: 6.3104 - mae: 6.7828 - val_loss: 6.2008 - val_mae: 6.6209\n",
            "Epoch 52/100\n",
            "31/31 [==============================] - 0s 15ms/step - loss: 6.1724 - mae: 6.6550 - val_loss: 6.6650 - val_mae: 7.0156\n",
            "Epoch 53/100\n",
            "31/31 [==============================] - 0s 12ms/step - loss: 6.2011 - mae: 6.6861 - val_loss: 6.3230 - val_mae: 6.8582\n",
            "Epoch 54/100\n",
            "31/31 [==============================] - 0s 15ms/step - loss: 6.1434 - mae: 6.6602 - val_loss: 6.0008 - val_mae: 6.5311\n",
            "Epoch 55/100\n",
            "31/31 [==============================] - 0s 14ms/step - loss: 6.0724 - mae: 6.5093 - val_loss: 6.0019 - val_mae: 6.5113\n",
            "Epoch 56/100\n",
            "31/31 [==============================] - 0s 14ms/step - loss: 6.0677 - mae: 6.5170 - val_loss: 6.0592 - val_mae: 6.4950\n",
            "Epoch 57/100\n",
            "31/31 [==============================] - 0s 14ms/step - loss: 6.0074 - mae: 6.5045 - val_loss: 5.9523 - val_mae: 6.4512\n",
            "Epoch 58/100\n",
            "31/31 [==============================] - 0s 15ms/step - loss: 5.9424 - mae: 6.4300 - val_loss: 6.5282 - val_mae: 7.0275\n",
            "Epoch 59/100\n",
            "31/31 [==============================] - 0s 16ms/step - loss: 5.8880 - mae: 6.4095 - val_loss: 6.2710 - val_mae: 6.7304\n",
            "Epoch 60/100\n",
            "31/31 [==============================] - 0s 15ms/step - loss: 5.9342 - mae: 6.4036 - val_loss: 5.9114 - val_mae: 6.3983\n",
            "Epoch 61/100\n",
            "31/31 [==============================] - 0s 15ms/step - loss: 5.8024 - mae: 6.3195 - val_loss: 5.9642 - val_mae: 6.4277\n",
            "Epoch 62/100\n",
            "31/31 [==============================] - 0s 12ms/step - loss: 5.8076 - mae: 6.3158 - val_loss: 5.9970 - val_mae: 6.5138\n",
            "Epoch 63/100\n",
            "31/31 [==============================] - 0s 13ms/step - loss: 5.8467 - mae: 6.2962 - val_loss: 6.0042 - val_mae: 6.3899\n",
            "Epoch 64/100\n",
            "31/31 [==============================] - 0s 15ms/step - loss: 5.7477 - mae: 6.2138 - val_loss: 5.8279 - val_mae: 6.3414\n",
            "Epoch 65/100\n",
            "31/31 [==============================] - 0s 13ms/step - loss: 5.7323 - mae: 6.2228 - val_loss: 5.7855 - val_mae: 6.2484\n",
            "Epoch 66/100\n",
            "31/31 [==============================] - 0s 15ms/step - loss: 5.6802 - mae: 6.1685 - val_loss: 5.7921 - val_mae: 6.2485\n",
            "Epoch 67/100\n",
            "31/31 [==============================] - 0s 13ms/step - loss: 5.7095 - mae: 6.1712 - val_loss: 5.8200 - val_mae: 6.2940\n",
            "Epoch 68/100\n",
            "31/31 [==============================] - 0s 15ms/step - loss: 5.6539 - mae: 6.1653 - val_loss: 5.7905 - val_mae: 6.2627\n",
            "Epoch 69/100\n",
            "31/31 [==============================] - 0s 14ms/step - loss: 5.6141 - mae: 6.1001 - val_loss: 5.8544 - val_mae: 6.3617\n",
            "Epoch 70/100\n",
            "31/31 [==============================] - 0s 14ms/step - loss: 5.5694 - mae: 6.0480 - val_loss: 6.0286 - val_mae: 6.5506\n",
            "Epoch 71/100\n",
            "31/31 [==============================] - 0s 15ms/step - loss: 5.6005 - mae: 6.0622 - val_loss: 5.9647 - val_mae: 6.4130\n",
            "Epoch 72/100\n",
            "31/31 [==============================] - 0s 12ms/step - loss: 5.6400 - mae: 6.0539 - val_loss: 5.7124 - val_mae: 6.1118\n",
            "Epoch 73/100\n",
            "31/31 [==============================] - 0s 13ms/step - loss: 5.4841 - mae: 5.9901 - val_loss: 5.6008 - val_mae: 6.0984\n",
            "Epoch 74/100\n",
            "31/31 [==============================] - 0s 13ms/step - loss: 5.5477 - mae: 5.9970 - val_loss: 5.5440 - val_mae: 6.0942\n",
            "Epoch 75/100\n",
            "31/31 [==============================] - 0s 13ms/step - loss: 5.5149 - mae: 5.9983 - val_loss: 5.5693 - val_mae: 6.0602\n",
            "Epoch 76/100\n",
            "31/31 [==============================] - 0s 15ms/step - loss: 5.4193 - mae: 5.9415 - val_loss: 6.1903 - val_mae: 6.5490\n",
            "Epoch 77/100\n",
            "31/31 [==============================] - 0s 15ms/step - loss: 5.4517 - mae: 5.9418 - val_loss: 5.5656 - val_mae: 6.0782\n",
            "Epoch 78/100\n",
            "31/31 [==============================] - 0s 13ms/step - loss: 5.4377 - mae: 5.9419 - val_loss: 5.5060 - val_mae: 6.0019\n",
            "Epoch 79/100\n",
            "31/31 [==============================] - 0s 12ms/step - loss: 5.4014 - mae: 5.8664 - val_loss: 5.4817 - val_mae: 5.9891\n",
            "Epoch 80/100\n",
            "31/31 [==============================] - 0s 13ms/step - loss: 5.3910 - mae: 5.8161 - val_loss: 5.5085 - val_mae: 6.0166\n",
            "Epoch 81/100\n",
            "31/31 [==============================] - 0s 14ms/step - loss: 5.3114 - mae: 5.8146 - val_loss: 5.6281 - val_mae: 6.0466\n",
            "Epoch 82/100\n",
            "31/31 [==============================] - 0s 12ms/step - loss: 5.3286 - mae: 5.7864 - val_loss: 5.7298 - val_mae: 6.1997\n",
            "Epoch 83/100\n",
            "31/31 [==============================] - 0s 14ms/step - loss: 5.2269 - mae: 5.7368 - val_loss: 5.7871 - val_mae: 6.2469\n",
            "Epoch 84/100\n",
            "31/31 [==============================] - 0s 13ms/step - loss: 5.2667 - mae: 5.7593 - val_loss: 5.5035 - val_mae: 5.9045\n",
            "Epoch 85/100\n",
            "31/31 [==============================] - 0s 13ms/step - loss: 5.2189 - mae: 5.7291 - val_loss: 5.5808 - val_mae: 6.0777\n",
            "Epoch 86/100\n",
            "31/31 [==============================] - 0s 15ms/step - loss: 5.1608 - mae: 5.7008 - val_loss: 5.4781 - val_mae: 5.9205\n",
            "Epoch 87/100\n",
            "31/31 [==============================] - 0s 14ms/step - loss: 5.3110 - mae: 5.7127 - val_loss: 5.3518 - val_mae: 5.8612\n",
            "Epoch 88/100\n",
            "31/31 [==============================] - 0s 13ms/step - loss: 5.1336 - mae: 5.6500 - val_loss: 5.5157 - val_mae: 5.8578\n",
            "Epoch 89/100\n",
            "31/31 [==============================] - 0s 14ms/step - loss: 5.1757 - mae: 5.6395 - val_loss: 5.4622 - val_mae: 6.0083\n",
            "Epoch 90/100\n",
            "31/31 [==============================] - 0s 14ms/step - loss: 5.1611 - mae: 5.6309 - val_loss: 5.4053 - val_mae: 5.8017\n",
            "Epoch 91/100\n",
            "31/31 [==============================] - 0s 15ms/step - loss: 5.1262 - mae: 5.6135 - val_loss: 5.2340 - val_mae: 5.7872\n",
            "Epoch 92/100\n",
            "31/31 [==============================] - 0s 12ms/step - loss: 5.1935 - mae: 5.6075 - val_loss: 5.5667 - val_mae: 5.8918\n",
            "Epoch 93/100\n",
            "31/31 [==============================] - 0s 12ms/step - loss: 5.0232 - mae: 5.5629 - val_loss: 5.2278 - val_mae: 5.7618\n",
            "Epoch 94/100\n",
            "31/31 [==============================] - 0s 14ms/step - loss: 5.1230 - mae: 5.5571 - val_loss: 5.4269 - val_mae: 5.9091\n",
            "Epoch 95/100\n",
            "31/31 [==============================] - 0s 12ms/step - loss: 5.0884 - mae: 5.5213 - val_loss: 5.3290 - val_mae: 5.7888\n",
            "Epoch 96/100\n",
            "31/31 [==============================] - 0s 13ms/step - loss: 5.0386 - mae: 5.5226 - val_loss: 5.3852 - val_mae: 5.8857\n",
            "Epoch 97/100\n",
            "31/31 [==============================] - 0s 13ms/step - loss: 4.9983 - mae: 5.5036 - val_loss: 5.1862 - val_mae: 5.7094\n",
            "Epoch 98/100\n",
            "31/31 [==============================] - 0s 14ms/step - loss: 4.9981 - mae: 5.4776 - val_loss: 5.2916 - val_mae: 5.8079\n",
            "Epoch 99/100\n",
            "31/31 [==============================] - 0s 14ms/step - loss: 4.9638 - mae: 5.4691 - val_loss: 5.1674 - val_mae: 5.6754\n",
            "Epoch 100/100\n",
            "31/31 [==============================] - 0s 13ms/step - loss: 5.0252 - mae: 5.4741 - val_loss: 5.3667 - val_mae: 5.8500\n"
          ],
          "name": "stdout"
        },
        {
          "output_type": "execute_result",
          "data": {
            "text/plain": [
              "<tensorflow.python.keras.callbacks.History at 0x7fbc0018cb38>"
            ]
          },
          "metadata": {
            "tags": []
          },
          "execution_count": 9
        }
      ]
    },
    {
      "cell_type": "code",
      "metadata": {
        "id": "JbnzMK9i5wVz",
        "colab_type": "code",
        "colab": {
          "base_uri": "https://localhost:8080/",
          "height": 1000
        },
        "outputId": "9a5f1f15-fe0d-4212-a690-1f4b75e89604"
      },
      "source": [
        "# Lets try changing the learning rate using learning rate scheduler.\n",
        "\n",
        "\n",
        "keras.backend.clear_session()\n",
        "tf.random.set_seed(42)\n",
        "np.random.seed(42)\n",
        "\n",
        "window_size = 30\n",
        "train_set = window_dataset(x_train, window_size)\n",
        "\n",
        "model = keras.models.Sequential([\n",
        "  keras.layers.Dense(1, input_shape=[window_size])\n",
        "])\n",
        "\n",
        "lr_schedule = keras.callbacks.LearningRateScheduler(\n",
        "    lambda epoch: 1e-6 * 10**(epoch / 30))\n",
        "optimizer = keras.optimizers.SGD(lr=1e-6, momentum=0.9)\n",
        "model.compile(loss=keras.losses.Huber(),\n",
        "              optimizer=optimizer,\n",
        "              metrics=[\"mae\"])\n",
        "history = model.fit(train_set, epochs=100, callbacks=[lr_schedule])\n"
      ],
      "execution_count": 10,
      "outputs": [
        {
          "output_type": "stream",
          "text": [
            "Epoch 1/100\n",
            "31/31 [==============================] - 1s 21ms/step - loss: 67.5573 - mae: 68.2355\n",
            "Epoch 2/100\n",
            "31/31 [==============================] - 0s 10ms/step - loss: 52.3274 - mae: 52.8279\n",
            "Epoch 3/100\n",
            "31/31 [==============================] - 0s 10ms/step - loss: 34.6397 - mae: 35.3488\n",
            "Epoch 4/100\n",
            "31/31 [==============================] - 0s 10ms/step - loss: 17.6722 - mae: 18.2666\n",
            "Epoch 5/100\n",
            "31/31 [==============================] - 0s 8ms/step - loss: 8.4772 - mae: 9.0412\n",
            "Epoch 6/100\n",
            "31/31 [==============================] - 0s 9ms/step - loss: 7.9360 - mae: 8.4686\n",
            "Epoch 7/100\n",
            "31/31 [==============================] - 0s 8ms/step - loss: 8.0485 - mae: 8.3976\n",
            "Epoch 8/100\n",
            "31/31 [==============================] - 0s 9ms/step - loss: 7.8122 - mae: 8.3568\n",
            "Epoch 9/100\n",
            "31/31 [==============================] - 0s 8ms/step - loss: 7.8515 - mae: 8.3132\n",
            "Epoch 10/100\n",
            "31/31 [==============================] - 0s 8ms/step - loss: 7.8280 - mae: 8.2520\n",
            "Epoch 11/100\n",
            "31/31 [==============================] - 0s 9ms/step - loss: 7.7490 - mae: 8.2040\n",
            "Epoch 12/100\n",
            "31/31 [==============================] - 0s 10ms/step - loss: 7.6157 - mae: 8.1571\n",
            "Epoch 13/100\n",
            "31/31 [==============================] - 0s 10ms/step - loss: 7.6241 - mae: 8.0983\n",
            "Epoch 14/100\n",
            "31/31 [==============================] - 0s 9ms/step - loss: 7.5126 - mae: 8.0580\n",
            "Epoch 15/100\n",
            "31/31 [==============================] - 0s 8ms/step - loss: 7.5280 - mae: 7.9956\n",
            "Epoch 16/100\n",
            "31/31 [==============================] - 0s 8ms/step - loss: 7.3926 - mae: 7.9420\n",
            "Epoch 17/100\n",
            "31/31 [==============================] - 0s 11ms/step - loss: 7.2994 - mae: 7.8501\n",
            "Epoch 18/100\n",
            "31/31 [==============================] - 0s 9ms/step - loss: 7.2903 - mae: 7.8082\n",
            "Epoch 19/100\n",
            "31/31 [==============================] - 0s 10ms/step - loss: 7.2710 - mae: 7.7297\n",
            "Epoch 20/100\n",
            "31/31 [==============================] - 0s 10ms/step - loss: 7.1794 - mae: 7.6656\n",
            "Epoch 21/100\n",
            "31/31 [==============================] - 0s 10ms/step - loss: 7.2336 - mae: 7.5920\n",
            "Epoch 22/100\n",
            "31/31 [==============================] - 0s 10ms/step - loss: 7.0783 - mae: 7.6044\n",
            "Epoch 23/100\n",
            "31/31 [==============================] - 0s 10ms/step - loss: 6.9889 - mae: 7.5139\n",
            "Epoch 24/100\n",
            "31/31 [==============================] - 0s 9ms/step - loss: 6.9341 - mae: 7.4251\n",
            "Epoch 25/100\n",
            "31/31 [==============================] - 0s 10ms/step - loss: 6.8870 - mae: 7.3939\n",
            "Epoch 26/100\n",
            "31/31 [==============================] - 0s 11ms/step - loss: 6.7978 - mae: 7.3001\n",
            "Epoch 27/100\n",
            "31/31 [==============================] - 0s 10ms/step - loss: 6.8086 - mae: 7.2419\n",
            "Epoch 28/100\n",
            "31/31 [==============================] - 0s 10ms/step - loss: 6.7132 - mae: 7.2104\n",
            "Epoch 29/100\n",
            "31/31 [==============================] - 0s 9ms/step - loss: 6.5866 - mae: 7.1246\n",
            "Epoch 30/100\n",
            "31/31 [==============================] - 0s 9ms/step - loss: 6.6569 - mae: 7.1402\n",
            "Epoch 31/100\n",
            "31/31 [==============================] - 0s 9ms/step - loss: 6.5903 - mae: 7.0442\n",
            "Epoch 32/100\n",
            "31/31 [==============================] - 0s 9ms/step - loss: 6.4814 - mae: 6.9671\n",
            "Epoch 33/100\n",
            "31/31 [==============================] - 0s 9ms/step - loss: 6.5158 - mae: 6.9706\n",
            "Epoch 34/100\n",
            "31/31 [==============================] - 0s 8ms/step - loss: 6.3624 - mae: 6.8304\n",
            "Epoch 35/100\n",
            "31/31 [==============================] - 0s 9ms/step - loss: 6.4147 - mae: 6.9369\n",
            "Epoch 36/100\n",
            "31/31 [==============================] - 0s 7ms/step - loss: 6.2358 - mae: 6.7358\n",
            "Epoch 37/100\n",
            "31/31 [==============================] - 0s 8ms/step - loss: 6.2198 - mae: 6.6862\n",
            "Epoch 38/100\n",
            "31/31 [==============================] - 0s 9ms/step - loss: 6.2208 - mae: 6.6435\n",
            "Epoch 39/100\n",
            "31/31 [==============================] - 0s 8ms/step - loss: 6.1134 - mae: 6.5842\n",
            "Epoch 40/100\n",
            "31/31 [==============================] - 0s 8ms/step - loss: 6.0682 - mae: 6.5729\n",
            "Epoch 41/100\n",
            "31/31 [==============================] - 0s 9ms/step - loss: 5.9726 - mae: 6.4850\n",
            "Epoch 42/100\n",
            "31/31 [==============================] - 0s 7ms/step - loss: 5.9647 - mae: 6.3751\n",
            "Epoch 43/100\n",
            "31/31 [==============================] - 0s 8ms/step - loss: 5.8697 - mae: 6.3056\n",
            "Epoch 44/100\n",
            "31/31 [==============================] - 0s 8ms/step - loss: 5.8800 - mae: 6.3547\n",
            "Epoch 45/100\n",
            "31/31 [==============================] - 0s 7ms/step - loss: 5.8399 - mae: 6.3820\n",
            "Epoch 46/100\n",
            "31/31 [==============================] - 0s 8ms/step - loss: 5.7977 - mae: 6.2202\n",
            "Epoch 47/100\n",
            "31/31 [==============================] - 0s 10ms/step - loss: 5.6052 - mae: 6.1029\n",
            "Epoch 48/100\n",
            "31/31 [==============================] - 0s 10ms/step - loss: 5.7255 - mae: 6.2109\n",
            "Epoch 49/100\n",
            "31/31 [==============================] - 0s 9ms/step - loss: 5.8074 - mae: 6.2475\n",
            "Epoch 50/100\n",
            "31/31 [==============================] - 0s 8ms/step - loss: 5.6310 - mae: 6.0871\n",
            "Epoch 51/100\n",
            "31/31 [==============================] - 0s 8ms/step - loss: 5.4622 - mae: 5.9416\n",
            "Epoch 52/100\n",
            "31/31 [==============================] - 0s 7ms/step - loss: 5.2779 - mae: 5.7438\n",
            "Epoch 53/100\n",
            "31/31 [==============================] - 0s 7ms/step - loss: 5.3936 - mae: 5.8682\n",
            "Epoch 54/100\n",
            "31/31 [==============================] - 0s 10ms/step - loss: 5.1796 - mae: 5.7025\n",
            "Epoch 55/100\n",
            "31/31 [==============================] - 0s 9ms/step - loss: 5.2698 - mae: 5.6782\n",
            "Epoch 56/100\n",
            "31/31 [==============================] - 0s 9ms/step - loss: 5.1009 - mae: 5.5818\n",
            "Epoch 57/100\n",
            "31/31 [==============================] - 0s 9ms/step - loss: 5.2695 - mae: 5.7649\n",
            "Epoch 58/100\n",
            "31/31 [==============================] - 0s 9ms/step - loss: 4.9247 - mae: 5.4176\n",
            "Epoch 59/100\n",
            "31/31 [==============================] - 0s 9ms/step - loss: 4.9441 - mae: 5.4288\n",
            "Epoch 60/100\n",
            "31/31 [==============================] - 0s 9ms/step - loss: 4.9905 - mae: 5.4827\n",
            "Epoch 61/100\n",
            "31/31 [==============================] - 0s 9ms/step - loss: 4.9487 - mae: 5.4859\n",
            "Epoch 62/100\n",
            "31/31 [==============================] - 0s 9ms/step - loss: 5.4734 - mae: 5.9824\n",
            "Epoch 63/100\n",
            "31/31 [==============================] - 0s 10ms/step - loss: 4.7191 - mae: 5.1605\n",
            "Epoch 64/100\n",
            "31/31 [==============================] - 0s 8ms/step - loss: 4.8399 - mae: 5.3375\n",
            "Epoch 65/100\n",
            "31/31 [==============================] - 0s 10ms/step - loss: 5.4665 - mae: 5.9829\n",
            "Epoch 66/100\n",
            "31/31 [==============================] - 0s 9ms/step - loss: 4.9004 - mae: 5.4103\n",
            "Epoch 67/100\n",
            "31/31 [==============================] - 0s 9ms/step - loss: 5.1498 - mae: 5.6387\n",
            "Epoch 68/100\n",
            "31/31 [==============================] - 0s 10ms/step - loss: 6.2261 - mae: 6.7592\n",
            "Epoch 69/100\n",
            "31/31 [==============================] - 0s 9ms/step - loss: 5.6507 - mae: 6.1219\n",
            "Epoch 70/100\n",
            "31/31 [==============================] - 0s 7ms/step - loss: 6.8120 - mae: 7.2522\n",
            "Epoch 71/100\n",
            "31/31 [==============================] - 0s 8ms/step - loss: 6.4729 - mae: 7.0139\n",
            "Epoch 72/100\n",
            "31/31 [==============================] - 0s 8ms/step - loss: 9.6588 - mae: 10.0320\n",
            "Epoch 73/100\n",
            "31/31 [==============================] - 0s 7ms/step - loss: 7.6533 - mae: 8.2148\n",
            "Epoch 74/100\n",
            "31/31 [==============================] - 0s 7ms/step - loss: 5.4023 - mae: 5.8498\n",
            "Epoch 75/100\n",
            "31/31 [==============================] - 0s 9ms/step - loss: 6.8555 - mae: 7.4126\n",
            "Epoch 76/100\n",
            "31/31 [==============================] - 0s 11ms/step - loss: 5.6469 - mae: 6.1509\n",
            "Epoch 77/100\n",
            "31/31 [==============================] - 0s 9ms/step - loss: 8.2922 - mae: 8.7548\n",
            "Epoch 78/100\n",
            "31/31 [==============================] - 0s 9ms/step - loss: 7.5552 - mae: 8.1273\n",
            "Epoch 79/100\n",
            "31/31 [==============================] - 0s 9ms/step - loss: 15.0494 - mae: 15.6917\n",
            "Epoch 80/100\n",
            "31/31 [==============================] - 0s 10ms/step - loss: 15.0550 - mae: 15.5402\n",
            "Epoch 81/100\n",
            "31/31 [==============================] - 0s 8ms/step - loss: 13.3163 - mae: 13.8923\n",
            "Epoch 82/100\n",
            "31/31 [==============================] - 0s 7ms/step - loss: 13.3142 - mae: 13.8973\n",
            "Epoch 83/100\n",
            "31/31 [==============================] - 0s 8ms/step - loss: 15.7496 - mae: 16.2738\n",
            "Epoch 84/100\n",
            "31/31 [==============================] - 0s 8ms/step - loss: 13.8490 - mae: 14.4558\n",
            "Epoch 85/100\n",
            "31/31 [==============================] - 0s 10ms/step - loss: 14.2284 - mae: 14.8951\n",
            "Epoch 86/100\n",
            "31/31 [==============================] - 0s 9ms/step - loss: 19.0786 - mae: 19.3522\n",
            "Epoch 87/100\n",
            "31/31 [==============================] - 0s 9ms/step - loss: 15.1198 - mae: 15.6890\n",
            "Epoch 88/100\n",
            "31/31 [==============================] - 0s 10ms/step - loss: 38.2430 - mae: 37.6220\n",
            "Epoch 89/100\n",
            "31/31 [==============================] - 0s 9ms/step - loss: 19.9164 - mae: 20.6966\n",
            "Epoch 90/100\n",
            "31/31 [==============================] - 0s 10ms/step - loss: 55.7749 - mae: 56.6767\n",
            "Epoch 91/100\n",
            "31/31 [==============================] - 0s 10ms/step - loss: 46.5871 - mae: 45.5549\n",
            "Epoch 92/100\n",
            "31/31 [==============================] - 0s 9ms/step - loss: 63.4042 - mae: 64.0432\n",
            "Epoch 93/100\n",
            "31/31 [==============================] - 0s 9ms/step - loss: 30.6769 - mae: 31.7019\n",
            "Epoch 94/100\n",
            "31/31 [==============================] - 0s 9ms/step - loss: 46.9578 - mae: 47.7247\n",
            "Epoch 95/100\n",
            "31/31 [==============================] - 0s 10ms/step - loss: 77.9151 - mae: 77.3865\n",
            "Epoch 96/100\n",
            "31/31 [==============================] - 0s 8ms/step - loss: 126.1923 - mae: 127.3093\n",
            "Epoch 97/100\n",
            "31/31 [==============================] - 0s 9ms/step - loss: 39.3084 - mae: 39.6018\n",
            "Epoch 98/100\n",
            "31/31 [==============================] - 0s 10ms/step - loss: 111.9518 - mae: 114.0740\n",
            "Epoch 99/100\n",
            "31/31 [==============================] - 0s 10ms/step - loss: 153.0939 - mae: 149.1910\n",
            "Epoch 100/100\n",
            "31/31 [==============================] - 0s 8ms/step - loss: 94.8025 - mae: 95.8985\n"
          ],
          "name": "stdout"
        }
      ]
    },
    {
      "cell_type": "code",
      "metadata": {
        "id": "yCD7t-rb6Rfb",
        "colab_type": "code",
        "colab": {
          "base_uri": "https://localhost:8080/",
          "height": 290
        },
        "outputId": "e12686fb-a928-4344-9b64-148c7a0da20a"
      },
      "source": [
        "# Lets see the learing rate\n",
        "plt.semilogx(history.history[\"lr\"], history.history[\"loss\"])\n",
        "plt.axis([1e-6, 1e-3, 0, 20])\n"
      ],
      "execution_count": 11,
      "outputs": [
        {
          "output_type": "execute_result",
          "data": {
            "text/plain": [
              "[1e-06, 0.001, 0, 20]"
            ]
          },
          "metadata": {
            "tags": []
          },
          "execution_count": 11
        },
        {
          "output_type": "display_data",
          "data": {
            "image/png": "[encoded data removed]",
            "text/plain": [
              "<Figure size 432x288 with 1 Axes>"
            ]
          },
          "metadata": {
            "tags": []
          }
        }
      ]
    },
    {
      "cell_type": "code",
      "metadata": {
        "id": "m8w6Fbqf6qqp",
        "colab_type": "code",
        "colab": {
          "base_uri": "https://localhost:8080/",
          "height": 1000
        },
        "outputId": "42f2dbaa-8b88-4254-c016-bac5c9eca1bd"
      },
      "source": [
        "# Lets try early stopping.\n",
        "\n",
        "keras.backend.clear_session()\n",
        "tf.random.set_seed(42)\n",
        "np.random.seed(42)\n",
        "\n",
        "window_size = 30\n",
        "train_set = window_dataset(x_train, window_size)\n",
        "valid_set = window_dataset(x_valid, window_size)\n",
        "\n",
        "model = keras.models.Sequential([\n",
        "  keras.layers.Dense(1, input_shape=[window_size])\n",
        "])\n",
        "optimizer = keras.optimizers.SGD(lr=1e-5, momentum=0.9)\n",
        "model.compile(loss=keras.losses.Huber(),\n",
        "              optimizer=optimizer,\n",
        "              metrics=[\"mae\"])\n",
        "early_stopping = keras.callbacks.EarlyStopping(patience=10)\n",
        "model.fit(train_set, epochs=500,\n",
        "          validation_data=valid_set,\n",
        "          callbacks=[early_stopping])"
      ],
      "execution_count": 12,
      "outputs": [
        {
          "output_type": "stream",
          "text": [
            "Epoch 1/500\n",
            "31/31 [==============================] - 1s 28ms/step - loss: 46.6127 - mae: 47.9542 - val_loss: 22.8934 - val_mae: 23.3670\n",
            "Epoch 2/500\n",
            "31/31 [==============================] - 0s 14ms/step - loss: 11.5051 - mae: 11.9459 - val_loss: 9.2357 - val_mae: 9.6871\n",
            "Epoch 3/500\n",
            "31/31 [==============================] - 0s 14ms/step - loss: 9.8460 - mae: 10.3806 - val_loss: 9.1530 - val_mae: 9.6008\n",
            "Epoch 4/500\n",
            "31/31 [==============================] - 0s 15ms/step - loss: 9.7397 - mae: 10.2880 - val_loss: 9.2402 - val_mae: 9.5627\n",
            "Epoch 5/500\n",
            "31/31 [==============================] - 0s 15ms/step - loss: 9.6098 - mae: 10.1772 - val_loss: 8.8791 - val_mae: 9.4029\n",
            "Epoch 6/500\n",
            "31/31 [==============================] - 0s 13ms/step - loss: 9.5544 - mae: 10.0866 - val_loss: 8.9816 - val_mae: 9.3764\n",
            "Epoch 7/500\n",
            "31/31 [==============================] - 0s 11ms/step - loss: 9.5411 - mae: 9.9598 - val_loss: 9.1477 - val_mae: 9.6448\n",
            "Epoch 8/500\n",
            "31/31 [==============================] - 0s 12ms/step - loss: 9.4851 - mae: 9.9422 - val_loss: 8.7311 - val_mae: 9.1497\n",
            "Epoch 9/500\n",
            "31/31 [==============================] - 0s 11ms/step - loss: 9.2665 - mae: 9.8119 - val_loss: 8.8546 - val_mae: 9.3354\n",
            "Epoch 10/500\n",
            "31/31 [==============================] - 0s 13ms/step - loss: 9.1176 - mae: 9.6605 - val_loss: 8.5426 - val_mae: 9.0899\n",
            "Epoch 11/500\n",
            "31/31 [==============================] - 0s 14ms/step - loss: 9.1549 - mae: 9.5409 - val_loss: 8.9611 - val_mae: 9.6144\n",
            "Epoch 12/500\n",
            "31/31 [==============================] - 0s 12ms/step - loss: 8.9512 - mae: 9.4910 - val_loss: 8.3247 - val_mae: 8.7871\n",
            "Epoch 13/500\n",
            "31/31 [==============================] - 0s 15ms/step - loss: 8.8332 - mae: 9.3872 - val_loss: 8.1997 - val_mae: 8.7302\n",
            "Epoch 14/500\n",
            "31/31 [==============================] - 0s 11ms/step - loss: 8.7356 - mae: 9.2432 - val_loss: 8.1176 - val_mae: 8.6369\n",
            "Epoch 15/500\n",
            "31/31 [==============================] - 0s 13ms/step - loss: 8.7119 - mae: 9.1426 - val_loss: 8.1161 - val_mae: 8.6082\n",
            "Epoch 16/500\n",
            "31/31 [==============================] - 0s 13ms/step - loss: 8.6283 - mae: 9.0912 - val_loss: 8.0115 - val_mae: 8.4647\n",
            "Epoch 17/500\n",
            "31/31 [==============================] - 0s 12ms/step - loss: 8.5352 - mae: 9.0146 - val_loss: 7.9018 - val_mae: 8.3889\n",
            "Epoch 18/500\n",
            "31/31 [==============================] - 0s 14ms/step - loss: 8.4385 - mae: 8.8838 - val_loss: 7.8439 - val_mae: 8.3067\n",
            "Epoch 19/500\n",
            "31/31 [==============================] - 0s 15ms/step - loss: 8.3318 - mae: 8.7835 - val_loss: 7.6570 - val_mae: 8.2369\n",
            "Epoch 20/500\n",
            "31/31 [==============================] - 0s 15ms/step - loss: 8.5737 - mae: 8.7729 - val_loss: 7.8061 - val_mae: 8.3250\n",
            "Epoch 21/500\n",
            "31/31 [==============================] - 0s 13ms/step - loss: 8.1467 - mae: 8.6799 - val_loss: 7.8912 - val_mae: 8.3775\n",
            "Epoch 22/500\n",
            "31/31 [==============================] - 0s 14ms/step - loss: 7.9580 - mae: 8.5173 - val_loss: 7.7146 - val_mae: 8.0249\n",
            "Epoch 23/500\n",
            "31/31 [==============================] - 0s 12ms/step - loss: 8.0981 - mae: 8.5123 - val_loss: 7.4875 - val_mae: 8.0241\n",
            "Epoch 24/500\n",
            "31/31 [==============================] - 0s 12ms/step - loss: 7.8785 - mae: 8.3764 - val_loss: 7.5182 - val_mae: 7.9389\n",
            "Epoch 25/500\n",
            "31/31 [==============================] - 0s 13ms/step - loss: 7.7999 - mae: 8.3485 - val_loss: 7.4287 - val_mae: 7.8362\n",
            "Epoch 26/500\n",
            "31/31 [==============================] - 0s 12ms/step - loss: 7.7945 - mae: 8.2245 - val_loss: 7.5423 - val_mae: 7.9082\n",
            "Epoch 27/500\n",
            "31/31 [==============================] - 0s 14ms/step - loss: 7.6860 - mae: 8.1787 - val_loss: 7.4901 - val_mae: 7.7869\n",
            "Epoch 28/500\n",
            "31/31 [==============================] - 0s 13ms/step - loss: 7.4584 - mae: 8.0543 - val_loss: 7.4811 - val_mae: 7.8965\n",
            "Epoch 29/500\n",
            "31/31 [==============================] - 0s 12ms/step - loss: 7.4329 - mae: 7.9952 - val_loss: 7.3368 - val_mae: 7.6857\n",
            "Epoch 30/500\n",
            "31/31 [==============================] - 0s 11ms/step - loss: 7.4352 - mae: 7.9338 - val_loss: 7.1814 - val_mae: 7.6461\n",
            "Epoch 31/500\n",
            "31/31 [==============================] - 0s 15ms/step - loss: 7.3034 - mae: 7.8347 - val_loss: 7.3299 - val_mae: 7.8802\n",
            "Epoch 32/500\n",
            "31/31 [==============================] - 0s 14ms/step - loss: 7.3150 - mae: 7.8155 - val_loss: 7.0163 - val_mae: 7.4639\n",
            "Epoch 33/500\n",
            "31/31 [==============================] - 0s 14ms/step - loss: 7.2097 - mae: 7.6849 - val_loss: 7.1127 - val_mae: 7.4108\n",
            "Epoch 34/500\n",
            "31/31 [==============================] - 0s 12ms/step - loss: 7.1468 - mae: 7.6849 - val_loss: 6.7834 - val_mae: 7.3680\n",
            "Epoch 35/500\n",
            "31/31 [==============================] - 0s 12ms/step - loss: 7.1133 - mae: 7.5731 - val_loss: 7.0126 - val_mae: 7.5711\n",
            "Epoch 36/500\n",
            "31/31 [==============================] - 0s 13ms/step - loss: 7.1183 - mae: 7.5424 - val_loss: 6.6977 - val_mae: 7.2341\n",
            "Epoch 37/500\n",
            "31/31 [==============================] - 0s 12ms/step - loss: 6.9736 - mae: 7.4698 - val_loss: 6.7660 - val_mae: 7.2993\n",
            "Epoch 38/500\n",
            "31/31 [==============================] - 0s 14ms/step - loss: 6.9065 - mae: 7.3897 - val_loss: 6.6870 - val_mae: 7.1210\n",
            "Epoch 39/500\n",
            "31/31 [==============================] - 0s 14ms/step - loss: 6.8967 - mae: 7.3467 - val_loss: 6.7620 - val_mae: 7.2326\n",
            "Epoch 40/500\n",
            "31/31 [==============================] - 0s 12ms/step - loss: 6.6941 - mae: 7.2490 - val_loss: 6.9749 - val_mae: 7.5261\n",
            "Epoch 41/500\n",
            "31/31 [==============================] - 0s 14ms/step - loss: 6.6664 - mae: 7.2129 - val_loss: 6.5955 - val_mae: 7.0717\n",
            "Epoch 42/500\n",
            "31/31 [==============================] - 0s 12ms/step - loss: 6.6713 - mae: 7.1823 - val_loss: 6.6620 - val_mae: 7.0698\n",
            "Epoch 43/500\n",
            "31/31 [==============================] - 0s 14ms/step - loss: 6.6650 - mae: 7.1058 - val_loss: 6.5818 - val_mae: 6.8937\n",
            "Epoch 44/500\n",
            "31/31 [==============================] - 0s 15ms/step - loss: 6.4863 - mae: 7.0235 - val_loss: 6.5852 - val_mae: 7.0380\n",
            "Epoch 45/500\n",
            "31/31 [==============================] - 0s 12ms/step - loss: 6.5071 - mae: 7.0489 - val_loss: 6.4003 - val_mae: 6.9471\n",
            "Epoch 46/500\n",
            "31/31 [==============================] - 0s 13ms/step - loss: 6.4239 - mae: 6.9418 - val_loss: 6.3794 - val_mae: 6.8998\n",
            "Epoch 47/500\n",
            "31/31 [==============================] - 0s 13ms/step - loss: 6.5909 - mae: 6.9357 - val_loss: 6.3643 - val_mae: 6.8160\n",
            "Epoch 48/500\n",
            "31/31 [==============================] - 0s 11ms/step - loss: 6.3445 - mae: 6.9042 - val_loss: 6.3557 - val_mae: 6.8818\n",
            "Epoch 49/500\n",
            "31/31 [==============================] - 0s 13ms/step - loss: 6.3944 - mae: 6.7920 - val_loss: 6.1951 - val_mae: 6.7120\n",
            "Epoch 50/500\n",
            "31/31 [==============================] - 0s 11ms/step - loss: 6.2657 - mae: 6.7451 - val_loss: 6.5079 - val_mae: 6.9985\n",
            "Epoch 51/500\n",
            "31/31 [==============================] - 0s 15ms/step - loss: 6.3104 - mae: 6.7828 - val_loss: 6.2008 - val_mae: 6.6209\n",
            "Epoch 52/500\n",
            "31/31 [==============================] - 0s 11ms/step - loss: 6.1724 - mae: 6.6550 - val_loss: 6.6650 - val_mae: 7.0156\n",
            "Epoch 53/500\n",
            "31/31 [==============================] - 0s 14ms/step - loss: 6.2011 - mae: 6.6861 - val_loss: 6.3230 - val_mae: 6.8582\n",
            "Epoch 54/500\n",
            "31/31 [==============================] - 0s 13ms/step - loss: 6.1434 - mae: 6.6602 - val_loss: 6.0008 - val_mae: 6.5311\n",
            "Epoch 55/500\n",
            "31/31 [==============================] - 0s 10ms/step - loss: 6.0724 - mae: 6.5093 - val_loss: 6.0019 - val_mae: 6.5113\n",
            "Epoch 56/500\n",
            "31/31 [==============================] - 0s 13ms/step - loss: 6.0677 - mae: 6.5170 - val_loss: 6.0592 - val_mae: 6.4950\n",
            "Epoch 57/500\n",
            "31/31 [==============================] - 0s 12ms/step - loss: 6.0074 - mae: 6.5045 - val_loss: 5.9523 - val_mae: 6.4512\n",
            "Epoch 58/500\n",
            "31/31 [==============================] - 0s 11ms/step - loss: 5.9424 - mae: 6.4300 - val_loss: 6.5282 - val_mae: 7.0275\n",
            "Epoch 59/500\n",
            "31/31 [==============================] - 1s 17ms/step - loss: 5.8880 - mae: 6.4095 - val_loss: 6.2710 - val_mae: 6.7304\n",
            "Epoch 60/500\n",
            "31/31 [==============================] - 0s 14ms/step - loss: 5.9342 - mae: 6.4036 - val_loss: 5.9114 - val_mae: 6.3983\n",
            "Epoch 61/500\n",
            "31/31 [==============================] - 0s 15ms/step - loss: 5.8024 - mae: 6.3195 - val_loss: 5.9642 - val_mae: 6.4277\n",
            "Epoch 62/500\n",
            "31/31 [==============================] - 0s 12ms/step - loss: 5.8076 - mae: 6.3158 - val_loss: 5.9970 - val_mae: 6.5138\n",
            "Epoch 63/500\n",
            "31/31 [==============================] - 0s 11ms/step - loss: 5.8467 - mae: 6.2962 - val_loss: 6.0042 - val_mae: 6.3899\n",
            "Epoch 64/500\n",
            "31/31 [==============================] - 0s 13ms/step - loss: 5.7477 - mae: 6.2138 - val_loss: 5.8279 - val_mae: 6.3414\n",
            "Epoch 65/500\n",
            "31/31 [==============================] - 0s 14ms/step - loss: 5.7323 - mae: 6.2228 - val_loss: 5.7855 - val_mae: 6.2484\n",
            "Epoch 66/500\n",
            "31/31 [==============================] - 0s 15ms/step - loss: 5.6802 - mae: 6.1685 - val_loss: 5.7921 - val_mae: 6.2485\n",
            "Epoch 67/500\n",
            "31/31 [==============================] - 0s 14ms/step - loss: 5.7095 - mae: 6.1712 - val_loss: 5.8200 - val_mae: 6.2940\n",
            "Epoch 68/500\n",
            "31/31 [==============================] - 0s 15ms/step - loss: 5.6539 - mae: 6.1653 - val_loss: 5.7905 - val_mae: 6.2627\n",
            "Epoch 69/500\n",
            "31/31 [==============================] - 0s 12ms/step - loss: 5.6141 - mae: 6.1001 - val_loss: 5.8544 - val_mae: 6.3617\n",
            "Epoch 70/500\n",
            "31/31 [==============================] - 0s 14ms/step - loss: 5.5694 - mae: 6.0480 - val_loss: 6.0286 - val_mae: 6.5506\n",
            "Epoch 71/500\n",
            "31/31 [==============================] - 0s 13ms/step - loss: 5.6005 - mae: 6.0622 - val_loss: 5.9647 - val_mae: 6.4130\n",
            "Epoch 72/500\n",
            "31/31 [==============================] - 0s 14ms/step - loss: 5.6400 - mae: 6.0539 - val_loss: 5.7124 - val_mae: 6.1118\n",
            "Epoch 73/500\n",
            "31/31 [==============================] - 0s 12ms/step - loss: 5.4841 - mae: 5.9901 - val_loss: 5.6008 - val_mae: 6.0984\n",
            "Epoch 74/500\n",
            "31/31 [==============================] - 0s 14ms/step - loss: 5.5477 - mae: 5.9970 - val_loss: 5.5440 - val_mae: 6.0942\n",
            "Epoch 75/500\n",
            "31/31 [==============================] - 0s 14ms/step - loss: 5.5149 - mae: 5.9983 - val_loss: 5.5693 - val_mae: 6.0602\n",
            "Epoch 76/500\n",
            "31/31 [==============================] - 0s 14ms/step - loss: 5.4193 - mae: 5.9415 - val_loss: 6.1903 - val_mae: 6.5490\n",
            "Epoch 77/500\n",
            "31/31 [==============================] - 0s 14ms/step - loss: 5.4517 - mae: 5.9418 - val_loss: 5.5656 - val_mae: 6.0782\n",
            "Epoch 78/500\n",
            "31/31 [==============================] - 0s 15ms/step - loss: 5.4377 - mae: 5.9419 - val_loss: 5.5060 - val_mae: 6.0019\n",
            "Epoch 79/500\n",
            "31/31 [==============================] - 0s 14ms/step - loss: 5.4014 - mae: 5.8664 - val_loss: 5.4817 - val_mae: 5.9891\n",
            "Epoch 80/500\n",
            "31/31 [==============================] - 0s 13ms/step - loss: 5.3910 - mae: 5.8161 - val_loss: 5.5085 - val_mae: 6.0166\n",
            "Epoch 81/500\n",
            "31/31 [==============================] - 0s 13ms/step - loss: 5.3114 - mae: 5.8146 - val_loss: 5.6281 - val_mae: 6.0466\n",
            "Epoch 82/500\n",
            "31/31 [==============================] - 0s 13ms/step - loss: 5.3286 - mae: 5.7864 - val_loss: 5.7298 - val_mae: 6.1997\n",
            "Epoch 83/500\n",
            "31/31 [==============================] - 0s 11ms/step - loss: 5.2269 - mae: 5.7368 - val_loss: 5.7871 - val_mae: 6.2469\n",
            "Epoch 84/500\n",
            "31/31 [==============================] - 0s 15ms/step - loss: 5.2667 - mae: 5.7593 - val_loss: 5.5035 - val_mae: 5.9045\n",
            "Epoch 85/500\n",
            "31/31 [==============================] - 0s 13ms/step - loss: 5.2189 - mae: 5.7291 - val_loss: 5.5808 - val_mae: 6.0777\n",
            "Epoch 86/500\n",
            "31/31 [==============================] - 0s 12ms/step - loss: 5.1608 - mae: 5.7008 - val_loss: 5.4781 - val_mae: 5.9205\n",
            "Epoch 87/500\n",
            "31/31 [==============================] - 0s 13ms/step - loss: 5.3110 - mae: 5.7127 - val_loss: 5.3518 - val_mae: 5.8612\n",
            "Epoch 88/500\n",
            "31/31 [==============================] - 0s 11ms/step - loss: 5.1336 - mae: 5.6500 - val_loss: 5.5157 - val_mae: 5.8578\n",
            "Epoch 89/500\n",
            "31/31 [==============================] - 0s 13ms/step - loss: 5.1757 - mae: 5.6395 - val_loss: 5.4622 - val_mae: 6.0083\n",
            "Epoch 90/500\n",
            "31/31 [==============================] - 0s 13ms/step - loss: 5.1611 - mae: 5.6309 - val_loss: 5.4053 - val_mae: 5.8017\n",
            "Epoch 91/500\n",
            "31/31 [==============================] - 0s 14ms/step - loss: 5.1262 - mae: 5.6135 - val_loss: 5.2340 - val_mae: 5.7872\n",
            "Epoch 92/500\n",
            "31/31 [==============================] - 0s 14ms/step - loss: 5.1935 - mae: 5.6075 - val_loss: 5.5667 - val_mae: 5.8918\n",
            "Epoch 93/500\n",
            "31/31 [==============================] - 0s 11ms/step - loss: 5.0232 - mae: 5.5629 - val_loss: 5.2278 - val_mae: 5.7618\n",
            "Epoch 94/500\n",
            "31/31 [==============================] - 0s 12ms/step - loss: 5.1230 - mae: 5.5571 - val_loss: 5.4269 - val_mae: 5.9091\n",
            "Epoch 95/500\n",
            "31/31 [==============================] - 0s 13ms/step - loss: 5.0884 - mae: 5.5213 - val_loss: 5.3290 - val_mae: 5.7888\n",
            "Epoch 96/500\n",
            "31/31 [==============================] - 0s 15ms/step - loss: 5.0386 - mae: 5.5226 - val_loss: 5.3852 - val_mae: 5.8857\n",
            "Epoch 97/500\n",
            "31/31 [==============================] - 0s 12ms/step - loss: 4.9983 - mae: 5.5036 - val_loss: 5.1862 - val_mae: 5.7094\n",
            "Epoch 98/500\n",
            "31/31 [==============================] - 0s 12ms/step - loss: 4.9981 - mae: 5.4776 - val_loss: 5.2916 - val_mae: 5.8079\n",
            "Epoch 99/500\n",
            "31/31 [==============================] - 0s 12ms/step - loss: 4.9638 - mae: 5.4691 - val_loss: 5.1674 - val_mae: 5.6754\n",
            "Epoch 100/500\n",
            "31/31 [==============================] - 0s 14ms/step - loss: 5.0252 - mae: 5.4741 - val_loss: 5.3667 - val_mae: 5.8500\n",
            "Epoch 101/500\n",
            "31/31 [==============================] - 0s 14ms/step - loss: 4.9912 - mae: 5.4899 - val_loss: 5.6709 - val_mae: 6.2145\n",
            "Epoch 102/500\n",
            "31/31 [==============================] - 0s 14ms/step - loss: 4.9535 - mae: 5.4140 - val_loss: 5.2001 - val_mae: 5.7089\n",
            "Epoch 103/500\n",
            "31/31 [==============================] - 0s 12ms/step - loss: 5.0342 - mae: 5.4920 - val_loss: 5.0598 - val_mae: 5.6270\n",
            "Epoch 104/500\n",
            "31/31 [==============================] - 0s 15ms/step - loss: 4.8750 - mae: 5.4058 - val_loss: 5.0751 - val_mae: 5.6113\n",
            "Epoch 105/500\n",
            "31/31 [==============================] - 0s 14ms/step - loss: 5.0391 - mae: 5.4079 - val_loss: 5.2416 - val_mae: 5.7954\n",
            "Epoch 106/500\n",
            "31/31 [==============================] - 0s 15ms/step - loss: 4.8473 - mae: 5.3664 - val_loss: 5.0984 - val_mae: 5.5891\n",
            "Epoch 107/500\n",
            "31/31 [==============================] - 0s 14ms/step - loss: 4.8508 - mae: 5.3700 - val_loss: 5.3164 - val_mae: 5.7933\n",
            "Epoch 108/500\n",
            "31/31 [==============================] - 0s 15ms/step - loss: 5.0319 - mae: 5.4070 - val_loss: 5.0538 - val_mae: 5.5904\n",
            "Epoch 109/500\n",
            "31/31 [==============================] - 0s 14ms/step - loss: 4.7924 - mae: 5.3198 - val_loss: 5.1683 - val_mae: 5.6763\n",
            "Epoch 110/500\n",
            "31/31 [==============================] - 0s 15ms/step - loss: 4.7937 - mae: 5.3089 - val_loss: 5.6445 - val_mae: 6.1465\n",
            "Epoch 111/500\n",
            "31/31 [==============================] - 0s 13ms/step - loss: 5.0005 - mae: 5.3768 - val_loss: 5.0647 - val_mae: 5.5706\n",
            "Epoch 112/500\n",
            "31/31 [==============================] - 0s 15ms/step - loss: 4.8122 - mae: 5.3057 - val_loss: 5.1271 - val_mae: 5.5521\n",
            "Epoch 113/500\n",
            "31/31 [==============================] - 0s 13ms/step - loss: 4.8012 - mae: 5.3038 - val_loss: 5.0621 - val_mae: 5.5317\n",
            "Epoch 114/500\n",
            "31/31 [==============================] - 0s 13ms/step - loss: 4.7876 - mae: 5.3079 - val_loss: 5.0227 - val_mae: 5.4983\n",
            "Epoch 115/500\n",
            "31/31 [==============================] - 0s 14ms/step - loss: 4.8303 - mae: 5.2923 - val_loss: 5.3069 - val_mae: 5.7753\n",
            "Epoch 116/500\n",
            "31/31 [==============================] - 0s 13ms/step - loss: 4.8345 - mae: 5.2969 - val_loss: 4.9747 - val_mae: 5.5253\n",
            "Epoch 117/500\n",
            "31/31 [==============================] - 0s 15ms/step - loss: 4.7497 - mae: 5.2365 - val_loss: 5.0617 - val_mae: 5.5173\n",
            "Epoch 118/500\n",
            "31/31 [==============================] - 0s 12ms/step - loss: 4.8396 - mae: 5.3090 - val_loss: 4.9355 - val_mae: 5.4709\n",
            "Epoch 119/500\n",
            "31/31 [==============================] - 0s 14ms/step - loss: 4.7812 - mae: 5.2807 - val_loss: 5.2369 - val_mae: 5.5950\n",
            "Epoch 120/500\n",
            "31/31 [==============================] - 1s 16ms/step - loss: 4.7066 - mae: 5.2239 - val_loss: 5.0209 - val_mae: 5.4540\n",
            "Epoch 121/500\n",
            "31/31 [==============================] - 0s 15ms/step - loss: 4.7743 - mae: 5.1845 - val_loss: 5.1194 - val_mae: 5.6238\n",
            "Epoch 122/500\n",
            "31/31 [==============================] - 0s 15ms/step - loss: 4.7146 - mae: 5.1755 - val_loss: 4.9912 - val_mae: 5.4909\n",
            "Epoch 123/500\n",
            "31/31 [==============================] - 0s 15ms/step - loss: 4.6751 - mae: 5.1626 - val_loss: 5.2021 - val_mae: 5.6674\n",
            "Epoch 124/500\n",
            "31/31 [==============================] - 0s 15ms/step - loss: 4.7475 - mae: 5.1956 - val_loss: 5.0065 - val_mae: 5.5162\n",
            "Epoch 125/500\n",
            "31/31 [==============================] - 0s 16ms/step - loss: 4.7040 - mae: 5.2005 - val_loss: 5.0760 - val_mae: 5.3858\n",
            "Epoch 126/500\n",
            "31/31 [==============================] - 0s 16ms/step - loss: 4.7043 - mae: 5.1690 - val_loss: 5.0776 - val_mae: 5.4696\n",
            "Epoch 127/500\n",
            "31/31 [==============================] - 0s 14ms/step - loss: 4.6536 - mae: 5.1350 - val_loss: 4.9439 - val_mae: 5.4462\n",
            "Epoch 128/500\n",
            "31/31 [==============================] - 0s 13ms/step - loss: 4.6591 - mae: 5.1441 - val_loss: 4.9658 - val_mae: 5.4599\n"
          ],
          "name": "stdout"
        },
        {
          "output_type": "execute_result",
          "data": {
            "text/plain": [
              "<tensorflow.python.keras.callbacks.History at 0x7fbbec33dac8>"
            ]
          },
          "metadata": {
            "tags": []
          },
          "execution_count": 12
        }
      ]
    },
    {
      "cell_type": "code",
      "metadata": {
        "id": "4OlWiOSz63tP",
        "colab_type": "code",
        "colab": {}
      },
      "source": [
        "# Since there were no much changes in the val_mae for 10 consecutive epochs, the model decided to stop at 128th epoch.\n"
      ],
      "execution_count": 0,
      "outputs": []
    },
    {
      "cell_type": "code",
      "metadata": {
        "id": "AZw2BVfR7UAO",
        "colab_type": "code",
        "colab": {}
      },
      "source": [
        "# now lets forecast using this model\n",
        "def model_forecast(model, series, window_size):\n",
        "    ds = tf.data.Dataset.from_tensor_slices(series)\n",
        "    ds = ds.window(window_size, shift=1, drop_remainder=True)\n",
        "    ds = ds.flat_map(lambda w: w.batch(window_size))\n",
        "    ds = ds.batch(32).prefetch(1)\n",
        "    forecast = model.predict(ds)\n",
        "    return forecast"
      ],
      "execution_count": 0,
      "outputs": []
    },
    {
      "cell_type": "code",
      "metadata": {
        "id": "nou_nfA-7anr",
        "colab_type": "code",
        "colab": {}
      },
      "source": [
        "lin_forecast = model_forecast(model, series[split_time - window_size:-1], window_size)[:, 0]"
      ],
      "execution_count": 0,
      "outputs": []
    },
    {
      "cell_type": "code",
      "metadata": {
        "id": "ovS_YlWC7dWw",
        "colab_type": "code",
        "colab": {
          "base_uri": "https://localhost:8080/",
          "height": 34
        },
        "outputId": "1c185eb6-37f8-48e2-cc39-0ebb484e9d2a"
      },
      "source": [
        "lin_forecast.shape"
      ],
      "execution_count": 15,
      "outputs": [
        {
          "output_type": "execute_result",
          "data": {
            "text/plain": [
              "(461,)"
            ]
          },
          "metadata": {
            "tags": []
          },
          "execution_count": 15
        }
      ]
    },
    {
      "cell_type": "code",
      "metadata": {
        "id": "HfRqC0Oa7fzB",
        "colab_type": "code",
        "colab": {
          "base_uri": "https://localhost:8080/",
          "height": 388
        },
        "outputId": "0c4bc21f-0a52-4f14-fa93-df537575dcba"
      },
      "source": [
        "plt.figure(figsize=(10, 6))\n",
        "plot_series(time_valid, x_valid)\n",
        "plot_series(time_valid, lin_forecast)"
      ],
      "execution_count": 16,
      "outputs": [
        {
          "output_type": "display_data",
          "data": {
            "image/png": "[encoded data removed]",
            "text/plain": [
              "<Figure size 720x432 with 1 Axes>"
            ]
          },
          "metadata": {
            "tags": []
          }
        }
      ]
    },
    {
      "cell_type": "code",
      "metadata": {
        "id": "za4tesd_7irW",
        "colab_type": "code",
        "colab": {
          "base_uri": "https://localhost:8080/",
          "height": 34
        },
        "outputId": "fd6ee1cb-81cf-4e89-aabe-497a0f89a770"
      },
      "source": [
        "# not too bad. Lets check the mean squared error.\n",
        "keras.metrics.mean_absolute_error(x_valid, lin_forecast).numpy()"
      ],
      "execution_count": 17,
      "outputs": [
        {
          "output_type": "execute_result",
          "data": {
            "text/plain": [
              "5.3433857"
            ]
          },
          "metadata": {
            "tags": []
          },
          "execution_count": 17
        }
      ]
    },
    {
      "cell_type": "code",
      "metadata": {
        "id": "RHgtvBfh7tKX",
        "colab_type": "code",
        "colab": {
          "base_uri": "https://localhost:8080/",
          "height": 1000
        },
        "outputId": "5d3fc80f-53fb-4213-bfa1-49b7a21591e6"
      },
      "source": [
        "# Dense model Forecasting\n",
        "\n",
        "keras.backend.clear_session()\n",
        "tf.random.set_seed(42)\n",
        "np.random.seed(42)\n",
        "\n",
        "window_size = 30\n",
        "train_set = window_dataset(x_train, window_size)\n",
        "\n",
        "model = keras.models.Sequential([\n",
        "  keras.layers.Dense(10, activation=\"relu\", input_shape=[window_size]),\n",
        "  keras.layers.Dense(10, activation=\"relu\"),\n",
        "  keras.layers.Dense(1)\n",
        "])\n",
        "\n",
        "lr_schedule = keras.callbacks.LearningRateScheduler(\n",
        "    lambda epoch: 1e-7 * 10**(epoch / 20))\n",
        "optimizer = keras.optimizers.SGD(lr=1e-7, momentum=0.9)\n",
        "model.compile(loss=keras.losses.Huber(),\n",
        "              optimizer=optimizer,\n",
        "              metrics=[\"mae\"])\n",
        "history = model.fit(train_set, epochs=100, callbacks=[lr_schedule])"
      ],
      "execution_count": 18,
      "outputs": [
        {
          "output_type": "stream",
          "text": [
            "Epoch 1/100\n",
            "31/31 [==============================] - 1s 22ms/step - loss: 43.7565 - mae: 44.3312\n",
            "Epoch 2/100\n",
            "31/31 [==============================] - 0s 10ms/step - loss: 41.8288 - mae: 42.0073\n",
            "Epoch 3/100\n",
            "31/31 [==============================] - 0s 8ms/step - loss: 38.7457 - mae: 39.1402\n",
            "Epoch 4/100\n",
            "31/31 [==============================] - 0s 9ms/step - loss: 35.3772 - mae: 35.8227\n",
            "Epoch 5/100\n",
            "31/31 [==============================] - 0s 8ms/step - loss: 31.4448 - mae: 32.0831\n",
            "Epoch 6/100\n",
            "31/31 [==============================] - 0s 8ms/step - loss: 27.2989 - mae: 27.9021\n",
            "Epoch 7/100\n",
            "31/31 [==============================] - 0s 10ms/step - loss: 22.6964 - mae: 23.2716\n",
            "Epoch 8/100\n",
            "31/31 [==============================] - 0s 10ms/step - loss: 17.6484 - mae: 18.2723\n",
            "Epoch 9/100\n",
            "31/31 [==============================] - 0s 10ms/step - loss: 12.6114 - mae: 13.1545\n",
            "Epoch 10/100\n",
            "31/31 [==============================] - 0s 9ms/step - loss: 8.6302 - mae: 9.0650\n",
            "Epoch 11/100\n",
            "31/31 [==============================] - 0s 10ms/step - loss: 6.9255 - mae: 7.3206\n",
            "Epoch 12/100\n",
            "31/31 [==============================] - 0s 10ms/step - loss: 6.6097 - mae: 7.1199\n",
            "Epoch 13/100\n",
            "31/31 [==============================] - 0s 8ms/step - loss: 6.6213 - mae: 7.1099\n",
            "Epoch 14/100\n",
            "31/31 [==============================] - 0s 11ms/step - loss: 6.5972 - mae: 7.0989\n",
            "Epoch 15/100\n",
            "31/31 [==============================] - 0s 10ms/step - loss: 6.6638 - mae: 7.0889\n",
            "Epoch 16/100\n",
            "31/31 [==============================] - 0s 10ms/step - loss: 6.5634 - mae: 7.0746\n",
            "Epoch 17/100\n",
            "31/31 [==============================] - 0s 9ms/step - loss: 6.5914 - mae: 7.0617\n",
            "Epoch 18/100\n",
            "31/31 [==============================] - 0s 10ms/step - loss: 6.5955 - mae: 7.0464\n",
            "Epoch 19/100\n",
            "31/31 [==============================] - 0s 10ms/step - loss: 6.5326 - mae: 7.0304\n",
            "Epoch 20/100\n",
            "31/31 [==============================] - 0s 7ms/step - loss: 6.7455 - mae: 7.0084\n",
            "Epoch 21/100\n",
            "31/31 [==============================] - 0s 9ms/step - loss: 6.5086 - mae: 6.9886\n",
            "Epoch 22/100\n",
            "31/31 [==============================] - 0s 11ms/step - loss: 6.4470 - mae: 6.9630\n",
            "Epoch 23/100\n",
            "31/31 [==============================] - 0s 9ms/step - loss: 6.5066 - mae: 6.9402\n",
            "Epoch 24/100\n",
            "31/31 [==============================] - 0s 8ms/step - loss: 6.4029 - mae: 6.9131\n",
            "Epoch 25/100\n",
            "31/31 [==============================] - 0s 10ms/step - loss: 6.4079 - mae: 6.9026\n",
            "Epoch 26/100\n",
            "31/31 [==============================] - 0s 10ms/step - loss: 6.4062 - mae: 6.8546\n",
            "Epoch 27/100\n",
            "31/31 [==============================] - 0s 8ms/step - loss: 6.3246 - mae: 6.8217\n",
            "Epoch 28/100\n",
            "31/31 [==============================] - 0s 10ms/step - loss: 6.2858 - mae: 6.7974\n",
            "Epoch 29/100\n",
            "31/31 [==============================] - 0s 11ms/step - loss: 6.2146 - mae: 6.7454\n",
            "Epoch 30/100\n",
            "31/31 [==============================] - 0s 8ms/step - loss: 6.1845 - mae: 6.7241\n",
            "Epoch 31/100\n",
            "31/31 [==============================] - 0s 8ms/step - loss: 6.1603 - mae: 6.6622\n",
            "Epoch 32/100\n",
            "31/31 [==============================] - 0s 8ms/step - loss: 6.2335 - mae: 6.6743\n",
            "Epoch 33/100\n",
            "31/31 [==============================] - 0s 10ms/step - loss: 6.2122 - mae: 6.6198\n",
            "Epoch 34/100\n",
            "31/31 [==============================] - 0s 10ms/step - loss: 6.0583 - mae: 6.5745\n",
            "Epoch 35/100\n",
            "31/31 [==============================] - 0s 9ms/step - loss: 6.0611 - mae: 6.5645\n",
            "Epoch 36/100\n",
            "31/31 [==============================] - 0s 10ms/step - loss: 6.1704 - mae: 6.5713\n",
            "Epoch 37/100\n",
            "31/31 [==============================] - 0s 8ms/step - loss: 6.0040 - mae: 6.4973\n",
            "Epoch 38/100\n",
            "31/31 [==============================] - 0s 9ms/step - loss: 5.9913 - mae: 6.4626\n",
            "Epoch 39/100\n",
            "31/31 [==============================] - 0s 8ms/step - loss: 6.0113 - mae: 6.4839\n",
            "Epoch 40/100\n",
            "31/31 [==============================] - 0s 11ms/step - loss: 5.9297 - mae: 6.4778\n",
            "Epoch 41/100\n",
            "31/31 [==============================] - 0s 10ms/step - loss: 5.9232 - mae: 6.4306\n",
            "Epoch 42/100\n",
            "31/31 [==============================] - 0s 10ms/step - loss: 6.0435 - mae: 6.4520\n",
            "Epoch 43/100\n",
            "31/31 [==============================] - 0s 11ms/step - loss: 5.8201 - mae: 6.3424\n",
            "Epoch 44/100\n",
            "31/31 [==============================] - 0s 8ms/step - loss: 5.8016 - mae: 6.2822\n",
            "Epoch 45/100\n",
            "31/31 [==============================] - 0s 8ms/step - loss: 5.8078 - mae: 6.3440\n",
            "Epoch 46/100\n",
            "31/31 [==============================] - 0s 10ms/step - loss: 5.7297 - mae: 6.2242\n",
            "Epoch 47/100\n",
            "31/31 [==============================] - 0s 9ms/step - loss: 5.8888 - mae: 6.2139\n",
            "Epoch 48/100\n",
            "31/31 [==============================] - 0s 11ms/step - loss: 5.7606 - mae: 6.2919\n",
            "Epoch 49/100\n",
            "31/31 [==============================] - 0s 10ms/step - loss: 5.7972 - mae: 6.1907\n",
            "Epoch 50/100\n",
            "31/31 [==============================] - 0s 10ms/step - loss: 5.7809 - mae: 6.1968\n",
            "Epoch 51/100\n",
            "31/31 [==============================] - 0s 10ms/step - loss: 5.6332 - mae: 6.1080\n",
            "Epoch 52/100\n",
            "31/31 [==============================] - 0s 8ms/step - loss: 5.7722 - mae: 6.2584\n",
            "Epoch 53/100\n",
            "31/31 [==============================] - 0s 10ms/step - loss: 5.7713 - mae: 6.2676\n",
            "Epoch 54/100\n",
            "31/31 [==============================] - 0s 10ms/step - loss: 6.0381 - mae: 6.5185\n",
            "Epoch 55/100\n",
            "31/31 [==============================] - 0s 9ms/step - loss: 5.5652 - mae: 5.9984\n",
            "Epoch 56/100\n",
            "31/31 [==============================] - 0s 9ms/step - loss: 5.6631 - mae: 6.1242\n",
            "Epoch 57/100\n",
            "31/31 [==============================] - 0s 11ms/step - loss: 5.7171 - mae: 6.2360\n",
            "Epoch 58/100\n",
            "31/31 [==============================] - 0s 10ms/step - loss: 5.3206 - mae: 5.8181\n",
            "Epoch 59/100\n",
            "31/31 [==============================] - 0s 9ms/step - loss: 5.3923 - mae: 5.9065\n",
            "Epoch 60/100\n",
            "31/31 [==============================] - 0s 10ms/step - loss: 5.1859 - mae: 5.6644\n",
            "Epoch 61/100\n",
            "31/31 [==============================] - 0s 11ms/step - loss: 5.1221 - mae: 5.6746\n",
            "Epoch 62/100\n",
            "31/31 [==============================] - 0s 10ms/step - loss: 5.4965 - mae: 6.0086\n",
            "Epoch 63/100\n",
            "31/31 [==============================] - 0s 10ms/step - loss: 5.3674 - mae: 5.8100\n",
            "Epoch 64/100\n",
            "31/31 [==============================] - 0s 10ms/step - loss: 5.1586 - mae: 5.6625\n",
            "Epoch 65/100\n",
            "31/31 [==============================] - 0s 8ms/step - loss: 4.9484 - mae: 5.4118\n",
            "Epoch 66/100\n",
            "31/31 [==============================] - 0s 8ms/step - loss: 5.1194 - mae: 5.6023\n",
            "Epoch 67/100\n",
            "31/31 [==============================] - 0s 9ms/step - loss: 5.1889 - mae: 5.6220\n",
            "Epoch 68/100\n",
            "31/31 [==============================] - 0s 10ms/step - loss: 5.0397 - mae: 5.4988\n",
            "Epoch 69/100\n",
            "31/31 [==============================] - 0s 9ms/step - loss: 4.7091 - mae: 5.1730\n",
            "Epoch 70/100\n",
            "31/31 [==============================] - 0s 9ms/step - loss: 5.2028 - mae: 5.7066\n",
            "Epoch 71/100\n",
            "31/31 [==============================] - 0s 8ms/step - loss: 5.3511 - mae: 5.8484\n",
            "Epoch 72/100\n",
            "31/31 [==============================] - 0s 10ms/step - loss: 6.3025 - mae: 6.7577\n",
            "Epoch 73/100\n",
            "31/31 [==============================] - 0s 8ms/step - loss: 4.9130 - mae: 5.4316\n",
            "Epoch 74/100\n",
            "31/31 [==============================] - 0s 9ms/step - loss: 5.4065 - mae: 5.8188\n",
            "Epoch 75/100\n",
            "31/31 [==============================] - 0s 10ms/step - loss: 5.2984 - mae: 5.7951\n",
            "Epoch 76/100\n",
            "31/31 [==============================] - 0s 8ms/step - loss: 5.9064 - mae: 6.4414\n",
            "Epoch 77/100\n",
            "31/31 [==============================] - 0s 8ms/step - loss: 6.0753 - mae: 6.6310\n",
            "Epoch 78/100\n",
            "31/31 [==============================] - 0s 9ms/step - loss: 5.4112 - mae: 5.8805\n",
            "Epoch 79/100\n",
            "31/31 [==============================] - 0s 9ms/step - loss: 6.7317 - mae: 7.1836\n",
            "Epoch 80/100\n",
            "31/31 [==============================] - 0s 9ms/step - loss: 7.9715 - mae: 8.4952\n",
            "Epoch 81/100\n",
            "31/31 [==============================] - 0s 9ms/step - loss: 6.6461 - mae: 7.2049\n",
            "Epoch 82/100\n",
            "31/31 [==============================] - 0s 9ms/step - loss: 9.7019 - mae: 9.9362\n",
            "Epoch 83/100\n",
            "31/31 [==============================] - 0s 10ms/step - loss: 9.2279 - mae: 9.7371\n",
            "Epoch 84/100\n",
            "31/31 [==============================] - 0s 10ms/step - loss: 11.4874 - mae: 11.9239\n",
            "Epoch 85/100\n",
            "31/31 [==============================] - 0s 9ms/step - loss: 11.1906 - mae: 11.2417\n",
            "Epoch 86/100\n",
            "31/31 [==============================] - 0s 9ms/step - loss: 12.6382 - mae: 12.9546\n",
            "Epoch 87/100\n",
            "31/31 [==============================] - 0s 10ms/step - loss: 22.1570 - mae: 22.5547\n",
            "Epoch 88/100\n",
            "31/31 [==============================] - 0s 9ms/step - loss: 41.7124 - mae: 42.0624\n",
            "Epoch 89/100\n",
            "31/31 [==============================] - 0s 10ms/step - loss: 42.7316 - mae: 43.1577\n",
            "Epoch 90/100\n",
            "31/31 [==============================] - 0s 10ms/step - loss: 41.2284 - mae: 41.8477\n",
            "Epoch 91/100\n",
            "31/31 [==============================] - 0s 9ms/step - loss: 40.2099 - mae: 40.4829\n",
            "Epoch 92/100\n",
            "31/31 [==============================] - 0s 9ms/step - loss: 39.2192 - mae: 39.5918\n",
            "Epoch 93/100\n",
            "31/31 [==============================] - 0s 12ms/step - loss: 38.0211 - mae: 38.5697\n",
            "Epoch 94/100\n",
            "31/31 [==============================] - 0s 11ms/step - loss: 36.5713 - mae: 36.9687\n",
            "Epoch 95/100\n",
            "31/31 [==============================] - 0s 11ms/step - loss: 31.1190 - mae: 31.8047\n",
            "Epoch 96/100\n",
            "31/31 [==============================] - 0s 9ms/step - loss: 17.1992 - mae: 17.7064\n",
            "Epoch 97/100\n",
            "31/31 [==============================] - 0s 11ms/step - loss: 15.7601 - mae: 16.1238\n",
            "Epoch 98/100\n",
            "31/31 [==============================] - 0s 12ms/step - loss: 15.2694 - mae: 15.7644\n",
            "Epoch 99/100\n",
            "31/31 [==============================] - 0s 11ms/step - loss: 16.7629 - mae: 17.3248\n",
            "Epoch 100/100\n",
            "31/31 [==============================] - 0s 10ms/step - loss: 17.2653 - mae: 17.7987\n"
          ],
          "name": "stdout"
        }
      ]
    },
    {
      "cell_type": "code",
      "metadata": {
        "id": "bIwcpbqY74SV",
        "colab_type": "code",
        "colab": {
          "base_uri": "https://localhost:8080/",
          "height": 290
        },
        "outputId": "d205812e-bbc3-458a-e520-0ed3226d7d90"
      },
      "source": [
        "plt.semilogx(history.history[\"lr\"], history.history[\"loss\"])\n",
        "plt.axis([1e-7, 5e-3, 0, 30])"
      ],
      "execution_count": 19,
      "outputs": [
        {
          "output_type": "execute_result",
          "data": {
            "text/plain": [
              "[1e-07, 0.005, 0, 30]"
            ]
          },
          "metadata": {
            "tags": []
          },
          "execution_count": 19
        },
        {
          "output_type": "display_data",
          "data": {
            "image/png": "[encoded data removed]",
            "text/plain": [
              "<Figure size 432x288 with 1 Axes>"
            ]
          },
          "metadata": {
            "tags": []
          }
        }
      ]
    },
    {
      "cell_type": "code",
      "metadata": {
        "id": "FZL-ZwJR8GNS",
        "colab_type": "code",
        "colab": {
          "base_uri": "https://localhost:8080/",
          "height": 1000
        },
        "outputId": "cf4ca5c8-776d-44bc-d3f0-0dd617aebcbd"
      },
      "source": [
        "keras.backend.clear_session()\n",
        "tf.random.set_seed(42)\n",
        "np.random.seed(42)\n",
        "\n",
        "window_size = 30\n",
        "train_set = window_dataset(x_train, window_size)\n",
        "valid_set = window_dataset(x_valid, window_size)\n",
        "\n",
        "model = keras.models.Sequential([\n",
        "  keras.layers.Dense(10, activation=\"relu\", input_shape=[window_size]),\n",
        "  keras.layers.Dense(10, activation=\"relu\"),\n",
        "  keras.layers.Dense(1)\n",
        "])\n",
        "\n",
        "optimizer = keras.optimizers.SGD(lr=1e-5, momentum=0.9)\n",
        "model.compile(loss=keras.losses.Huber(),\n",
        "              optimizer=optimizer,\n",
        "              metrics=[\"mae\"])\n",
        "early_stopping = keras.callbacks.EarlyStopping(patience=10)\n",
        "model.fit(train_set, epochs=500,\n",
        "          validation_data=valid_set,\n",
        "          callbacks=[early_stopping])"
      ],
      "execution_count": 20,
      "outputs": [
        {
          "output_type": "stream",
          "text": [
            "Epoch 1/500\n",
            "31/31 [==============================] - 1s 30ms/step - loss: 20.0335 - mae: 20.8270 - val_loss: 12.7604 - val_mae: 13.4040\n",
            "Epoch 2/500\n",
            "31/31 [==============================] - 0s 13ms/step - loss: 8.6268 - mae: 9.0442 - val_loss: 7.8260 - val_mae: 8.3112\n",
            "Epoch 3/500\n",
            "31/31 [==============================] - 0s 14ms/step - loss: 7.9271 - mae: 8.4718 - val_loss: 7.6869 - val_mae: 8.1423\n",
            "Epoch 4/500\n",
            "31/31 [==============================] - 0s 15ms/step - loss: 7.6027 - mae: 8.1519 - val_loss: 7.1338 - val_mae: 7.4683\n",
            "Epoch 5/500\n",
            "31/31 [==============================] - 0s 15ms/step - loss: 7.3532 - mae: 7.8994 - val_loss: 6.8095 - val_mae: 7.3306\n",
            "Epoch 6/500\n",
            "31/31 [==============================] - 0s 15ms/step - loss: 7.1958 - mae: 7.6983 - val_loss: 6.6906 - val_mae: 7.0048\n",
            "Epoch 7/500\n",
            "31/31 [==============================] - 0s 13ms/step - loss: 7.0248 - mae: 7.5004 - val_loss: 6.5143 - val_mae: 7.0573\n",
            "Epoch 8/500\n",
            "31/31 [==============================] - 0s 13ms/step - loss: 6.8297 - mae: 7.3547 - val_loss: 6.2894 - val_mae: 6.7215\n",
            "Epoch 9/500\n",
            "31/31 [==============================] - 0s 14ms/step - loss: 6.7595 - mae: 7.2260 - val_loss: 6.4960 - val_mae: 6.9264\n",
            "Epoch 10/500\n",
            "31/31 [==============================] - 0s 15ms/step - loss: 6.6379 - mae: 7.0882 - val_loss: 6.0848 - val_mae: 6.5820\n",
            "Epoch 11/500\n",
            "31/31 [==============================] - 0s 15ms/step - loss: 6.5304 - mae: 6.9369 - val_loss: 6.0641 - val_mae: 6.5406\n",
            "Epoch 12/500\n",
            "31/31 [==============================] - 0s 14ms/step - loss: 6.3624 - mae: 6.8727 - val_loss: 6.0199 - val_mae: 6.4553\n",
            "Epoch 13/500\n",
            "31/31 [==============================] - 0s 13ms/step - loss: 6.3025 - mae: 6.7733 - val_loss: 5.9311 - val_mae: 6.4741\n",
            "Epoch 14/500\n",
            "31/31 [==============================] - 0s 15ms/step - loss: 6.2242 - mae: 6.6997 - val_loss: 5.7849 - val_mae: 6.3236\n",
            "Epoch 15/500\n",
            "31/31 [==============================] - 0s 13ms/step - loss: 6.1849 - mae: 6.6597 - val_loss: 5.7738 - val_mae: 6.3508\n",
            "Epoch 16/500\n",
            "31/31 [==============================] - 0s 15ms/step - loss: 6.1755 - mae: 6.6352 - val_loss: 5.9210 - val_mae: 6.2534\n",
            "Epoch 17/500\n",
            "31/31 [==============================] - 0s 14ms/step - loss: 6.1109 - mae: 6.5940 - val_loss: 5.7805 - val_mae: 6.2701\n",
            "Epoch 18/500\n",
            "31/31 [==============================] - 0s 13ms/step - loss: 6.1443 - mae: 6.5912 - val_loss: 5.7978 - val_mae: 6.2107\n",
            "Epoch 19/500\n",
            "31/31 [==============================] - 0s 14ms/step - loss: 5.9822 - mae: 6.4908 - val_loss: 5.7201 - val_mae: 6.2427\n",
            "Epoch 20/500\n",
            "31/31 [==============================] - 0s 13ms/step - loss: 6.1610 - mae: 6.4918 - val_loss: 5.8168 - val_mae: 6.2877\n",
            "Epoch 21/500\n",
            "31/31 [==============================] - 0s 14ms/step - loss: 5.9248 - mae: 6.4129 - val_loss: 5.6254 - val_mae: 6.1871\n",
            "Epoch 22/500\n",
            "31/31 [==============================] - 0s 16ms/step - loss: 5.8937 - mae: 6.3985 - val_loss: 5.7200 - val_mae: 6.1001\n",
            "Epoch 23/500\n",
            "31/31 [==============================] - 0s 14ms/step - loss: 5.8962 - mae: 6.3597 - val_loss: 5.5660 - val_mae: 6.0979\n",
            "Epoch 24/500\n",
            "31/31 [==============================] - 0s 14ms/step - loss: 5.8245 - mae: 6.3047 - val_loss: 6.0413 - val_mae: 6.4770\n",
            "Epoch 25/500\n",
            "31/31 [==============================] - 0s 12ms/step - loss: 5.8322 - mae: 6.3362 - val_loss: 5.7059 - val_mae: 6.1395\n",
            "Epoch 26/500\n",
            "31/31 [==============================] - 0s 14ms/step - loss: 5.7615 - mae: 6.2538 - val_loss: 5.6478 - val_mae: 6.0628\n",
            "Epoch 27/500\n",
            "31/31 [==============================] - 0s 13ms/step - loss: 5.7963 - mae: 6.2852 - val_loss: 5.7291 - val_mae: 6.0319\n",
            "Epoch 28/500\n",
            "31/31 [==============================] - 0s 14ms/step - loss: 5.7183 - mae: 6.2344 - val_loss: 5.7584 - val_mae: 6.2012\n",
            "Epoch 29/500\n",
            "31/31 [==============================] - 0s 12ms/step - loss: 5.7477 - mae: 6.2739 - val_loss: 5.5752 - val_mae: 5.9772\n",
            "Epoch 30/500\n",
            "31/31 [==============================] - 0s 14ms/step - loss: 5.6989 - mae: 6.1969 - val_loss: 5.6866 - val_mae: 6.0996\n",
            "Epoch 31/500\n",
            "31/31 [==============================] - 0s 15ms/step - loss: 5.6727 - mae: 6.1618 - val_loss: 5.4559 - val_mae: 6.0003\n",
            "Epoch 32/500\n",
            "31/31 [==============================] - 0s 13ms/step - loss: 5.6462 - mae: 6.1351 - val_loss: 5.5752 - val_mae: 6.0471\n",
            "Epoch 33/500\n",
            "31/31 [==============================] - 0s 13ms/step - loss: 5.6754 - mae: 6.1323 - val_loss: 5.7538 - val_mae: 6.1338\n",
            "Epoch 34/500\n",
            "31/31 [==============================] - 0s 14ms/step - loss: 5.5633 - mae: 6.0814 - val_loss: 5.5131 - val_mae: 5.9941\n",
            "Epoch 35/500\n",
            "31/31 [==============================] - 0s 13ms/step - loss: 5.6632 - mae: 6.1052 - val_loss: 5.4602 - val_mae: 5.9791\n",
            "Epoch 36/500\n",
            "31/31 [==============================] - 0s 14ms/step - loss: 5.6377 - mae: 6.0515 - val_loss: 5.3360 - val_mae: 5.8488\n",
            "Epoch 37/500\n",
            "31/31 [==============================] - 0s 12ms/step - loss: 5.6181 - mae: 6.0751 - val_loss: 5.3721 - val_mae: 5.8903\n",
            "Epoch 38/500\n",
            "31/31 [==============================] - 0s 14ms/step - loss: 5.6445 - mae: 6.0793 - val_loss: 5.4918 - val_mae: 5.9636\n",
            "Epoch 39/500\n",
            "31/31 [==============================] - 0s 14ms/step - loss: 5.5929 - mae: 6.0607 - val_loss: 5.7866 - val_mae: 6.2465\n",
            "Epoch 40/500\n",
            "31/31 [==============================] - 0s 13ms/step - loss: 5.4695 - mae: 5.9988 - val_loss: 6.0022 - val_mae: 6.5557\n",
            "Epoch 41/500\n",
            "31/31 [==============================] - 0s 15ms/step - loss: 5.5238 - mae: 6.0155 - val_loss: 5.3899 - val_mae: 5.8099\n",
            "Epoch 42/500\n",
            "31/31 [==============================] - 0s 11ms/step - loss: 5.5160 - mae: 5.9916 - val_loss: 5.3427 - val_mae: 5.7782\n",
            "Epoch 43/500\n",
            "31/31 [==============================] - 0s 14ms/step - loss: 5.4636 - mae: 5.9490 - val_loss: 5.3604 - val_mae: 5.7902\n",
            "Epoch 44/500\n",
            "31/31 [==============================] - 0s 13ms/step - loss: 5.4121 - mae: 5.9382 - val_loss: 5.2720 - val_mae: 5.7695\n",
            "Epoch 45/500\n",
            "31/31 [==============================] - 0s 12ms/step - loss: 5.3824 - mae: 5.9146 - val_loss: 5.3447 - val_mae: 5.8274\n",
            "Epoch 46/500\n",
            "31/31 [==============================] - 0s 15ms/step - loss: 5.4062 - mae: 5.9167 - val_loss: 5.6317 - val_mae: 6.1132\n",
            "Epoch 47/500\n",
            "31/31 [==============================] - 0s 16ms/step - loss: 5.5081 - mae: 5.9391 - val_loss: 5.8032 - val_mae: 6.2175\n",
            "Epoch 48/500\n",
            "31/31 [==============================] - 0s 15ms/step - loss: 5.4701 - mae: 5.9673 - val_loss: 5.8835 - val_mae: 6.3931\n",
            "Epoch 49/500\n",
            "31/31 [==============================] - 1s 16ms/step - loss: 5.5169 - mae: 5.9007 - val_loss: 5.1272 - val_mae: 5.6883\n",
            "Epoch 50/500\n",
            "31/31 [==============================] - 0s 13ms/step - loss: 5.3756 - mae: 5.8614 - val_loss: 5.3538 - val_mae: 5.7832\n",
            "Epoch 51/500\n",
            "31/31 [==============================] - 0s 12ms/step - loss: 5.4109 - mae: 5.9051 - val_loss: 5.4589 - val_mae: 5.9543\n",
            "Epoch 52/500\n",
            "31/31 [==============================] - 0s 13ms/step - loss: 5.3796 - mae: 5.8668 - val_loss: 5.5352 - val_mae: 5.9324\n",
            "Epoch 53/500\n",
            "31/31 [==============================] - 0s 14ms/step - loss: 5.3472 - mae: 5.8626 - val_loss: 5.4992 - val_mae: 6.0145\n",
            "Epoch 54/500\n",
            "31/31 [==============================] - 0s 13ms/step - loss: 5.4344 - mae: 5.8423 - val_loss: 5.1820 - val_mae: 5.7020\n",
            "Epoch 55/500\n",
            "31/31 [==============================] - 1s 16ms/step - loss: 5.3682 - mae: 5.8267 - val_loss: 5.0991 - val_mae: 5.6574\n",
            "Epoch 56/500\n",
            "31/31 [==============================] - 0s 14ms/step - loss: 5.2826 - mae: 5.7591 - val_loss: 5.2834 - val_mae: 5.6428\n",
            "Epoch 57/500\n",
            "31/31 [==============================] - 0s 13ms/step - loss: 5.2222 - mae: 5.7371 - val_loss: 5.3954 - val_mae: 5.9134\n",
            "Epoch 58/500\n",
            "31/31 [==============================] - 0s 15ms/step - loss: 5.3262 - mae: 5.8185 - val_loss: 5.6430 - val_mae: 6.2249\n",
            "Epoch 59/500\n",
            "31/31 [==============================] - 0s 14ms/step - loss: 5.2107 - mae: 5.7497 - val_loss: 5.1895 - val_mae: 5.6884\n",
            "Epoch 60/500\n",
            "31/31 [==============================] - 0s 14ms/step - loss: 5.1867 - mae: 5.7125 - val_loss: 5.2354 - val_mae: 5.7014\n",
            "Epoch 61/500\n",
            "31/31 [==============================] - 0s 13ms/step - loss: 5.2114 - mae: 5.7478 - val_loss: 5.0770 - val_mae: 5.5562\n",
            "Epoch 62/500\n",
            "31/31 [==============================] - 0s 14ms/step - loss: 5.1879 - mae: 5.6922 - val_loss: 5.6824 - val_mae: 6.1642\n",
            "Epoch 63/500\n",
            "31/31 [==============================] - 0s 14ms/step - loss: 5.3061 - mae: 5.7429 - val_loss: 5.1320 - val_mae: 5.5780\n",
            "Epoch 64/500\n",
            "31/31 [==============================] - 0s 16ms/step - loss: 5.1963 - mae: 5.6699 - val_loss: 5.0222 - val_mae: 5.5532\n",
            "Epoch 65/500\n",
            "31/31 [==============================] - 0s 15ms/step - loss: 5.1999 - mae: 5.6580 - val_loss: 5.3494 - val_mae: 5.7631\n",
            "Epoch 66/500\n",
            "31/31 [==============================] - 0s 15ms/step - loss: 5.1969 - mae: 5.6892 - val_loss: 5.0385 - val_mae: 5.5249\n",
            "Epoch 67/500\n",
            "31/31 [==============================] - 0s 15ms/step - loss: 5.1620 - mae: 5.6555 - val_loss: 5.1523 - val_mae: 5.6570\n",
            "Epoch 68/500\n",
            "31/31 [==============================] - 0s 14ms/step - loss: 5.1490 - mae: 5.6367 - val_loss: 4.9760 - val_mae: 5.5124\n",
            "Epoch 69/500\n",
            "31/31 [==============================] - 0s 14ms/step - loss: 5.1746 - mae: 5.6393 - val_loss: 4.9946 - val_mae: 5.4977\n",
            "Epoch 70/500\n",
            "31/31 [==============================] - 0s 15ms/step - loss: 5.1411 - mae: 5.6346 - val_loss: 5.0576 - val_mae: 5.5614\n",
            "Epoch 71/500\n",
            "31/31 [==============================] - 0s 15ms/step - loss: 5.1184 - mae: 5.6109 - val_loss: 5.1781 - val_mae: 5.7201\n",
            "Epoch 72/500\n",
            "31/31 [==============================] - 0s 14ms/step - loss: 5.1235 - mae: 5.5622 - val_loss: 5.0378 - val_mae: 5.5018\n",
            "Epoch 73/500\n",
            "31/31 [==============================] - 0s 13ms/step - loss: 5.0683 - mae: 5.5692 - val_loss: 5.1346 - val_mae: 5.6036\n",
            "Epoch 74/500\n",
            "31/31 [==============================] - 0s 13ms/step - loss: 5.1340 - mae: 5.5938 - val_loss: 5.0276 - val_mae: 5.5107\n",
            "Epoch 75/500\n",
            "31/31 [==============================] - 0s 12ms/step - loss: 5.1112 - mae: 5.5920 - val_loss: 4.9851 - val_mae: 5.5049\n",
            "Epoch 76/500\n",
            "31/31 [==============================] - 0s 13ms/step - loss: 5.0530 - mae: 5.5327 - val_loss: 5.0102 - val_mae: 5.4535\n",
            "Epoch 77/500\n",
            "31/31 [==============================] - 0s 13ms/step - loss: 5.0019 - mae: 5.5270 - val_loss: 4.8956 - val_mae: 5.4438\n",
            "Epoch 78/500\n",
            "31/31 [==============================] - 0s 15ms/step - loss: 5.0303 - mae: 5.5172 - val_loss: 4.9816 - val_mae: 5.4619\n",
            "Epoch 79/500\n",
            "31/31 [==============================] - 0s 13ms/step - loss: 5.1155 - mae: 5.5417 - val_loss: 4.9206 - val_mae: 5.4661\n",
            "Epoch 80/500\n",
            "31/31 [==============================] - 0s 13ms/step - loss: 5.0969 - mae: 5.4956 - val_loss: 5.1670 - val_mae: 5.6963\n",
            "Epoch 81/500\n",
            "31/31 [==============================] - 0s 13ms/step - loss: 5.0067 - mae: 5.5083 - val_loss: 4.9603 - val_mae: 5.4533\n",
            "Epoch 82/500\n",
            "31/31 [==============================] - 0s 13ms/step - loss: 4.9394 - mae: 5.4397 - val_loss: 4.9296 - val_mae: 5.4431\n",
            "Epoch 83/500\n",
            "31/31 [==============================] - 0s 15ms/step - loss: 4.9673 - mae: 5.4727 - val_loss: 5.2480 - val_mae: 5.6862\n",
            "Epoch 84/500\n",
            "31/31 [==============================] - 0s 15ms/step - loss: 4.9953 - mae: 5.4508 - val_loss: 5.0421 - val_mae: 5.4961\n",
            "Epoch 85/500\n",
            "31/31 [==============================] - 0s 13ms/step - loss: 4.9178 - mae: 5.4485 - val_loss: 4.9173 - val_mae: 5.4085\n",
            "Epoch 86/500\n",
            "31/31 [==============================] - 0s 15ms/step - loss: 4.9098 - mae: 5.4449 - val_loss: 4.9913 - val_mae: 5.4046\n",
            "Epoch 87/500\n",
            "31/31 [==============================] - 0s 15ms/step - loss: 5.0023 - mae: 5.4681 - val_loss: 4.9118 - val_mae: 5.4093\n"
          ],
          "name": "stdout"
        },
        {
          "output_type": "execute_result",
          "data": {
            "text/plain": [
              "<tensorflow.python.keras.callbacks.History at 0x7fbc0018c390>"
            ]
          },
          "metadata": {
            "tags": []
          },
          "execution_count": 20
        }
      ]
    },
    {
      "cell_type": "code",
      "metadata": {
        "id": "cOwsOBAQ8QRu",
        "colab_type": "code",
        "colab": {}
      },
      "source": [
        "dense_forecast = model_forecast(\n",
        "    model,\n",
        "    series[split_time - window_size:-1],\n",
        "    window_size)[:, 0]"
      ],
      "execution_count": 0,
      "outputs": []
    },
    {
      "cell_type": "code",
      "metadata": {
        "id": "jdZsfZAo8fIu",
        "colab_type": "code",
        "colab": {
          "base_uri": "https://localhost:8080/",
          "height": 388
        },
        "outputId": "55e47f65-b574-4ec9-ea27-a82b93247c16"
      },
      "source": [
        "plt.figure(figsize=(10, 6))\n",
        "plot_series(time_valid, x_valid)\n",
        "plot_series(time_valid, dense_forecast)"
      ],
      "execution_count": 22,
      "outputs": [
        {
          "output_type": "display_data",
          "data": {
            "image/png": "[encoded data removed]",
            "text/plain": [
              "<Figure size 720x432 with 1 Axes>"
            ]
          },
          "metadata": {
            "tags": []
          }
        }
      ]
    },
    {
      "cell_type": "code",
      "metadata": {
        "id": "KLfA80XK8iCn",
        "colab_type": "code",
        "colab": {
          "base_uri": "https://localhost:8080/",
          "height": 34
        },
        "outputId": "bc229601-a608-4c94-ad99-1af3fe1ec647"
      },
      "source": [
        "keras.metrics.mean_absolute_error(x_valid, dense_forecast).numpy()"
      ],
      "execution_count": 23,
      "outputs": [
        {
          "output_type": "execute_result",
          "data": {
            "text/plain": [
              "5.2994733"
            ]
          },
          "metadata": {
            "tags": []
          },
          "execution_count": 23
        }
      ]
    },
    {
      "cell_type": "code",
      "metadata": {
        "id": "rxyq7U4S8l8Y",
        "colab_type": "code",
        "colab": {}
      },
      "source": [
        "import os\n",
        "os._exit(00)"
      ],
      "execution_count": 0,
      "outputs": []
    },
    {
      "cell_type": "code",
      "metadata": {
        "id": "zXVsHd708_B6",
        "colab_type": "code",
        "colab": {}
      },
      "source": [
        ""
      ],
      "execution_count": 0,
      "outputs": []
    }
  ]
}